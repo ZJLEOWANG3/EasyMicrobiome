{
 "cells": [
  {
   "cell_type": "code",
   "execution_count": 317,
   "metadata": {},
   "outputs": [],
   "source": [
    "import matplotlib.pyplot as plt \n",
    "import plotly.graph_objects as go\n",
    "from adjustText import adjust_text\n",
    "import math\n",
    "import json\n",
    "\n",
    "class OperonFileReader:\n",
    "    def __init__(self, file_path):\n",
    "        self.file_path = file_path\n",
    "    \n",
    "    def read_operons(self):\n",
    "        operons = []\n",
    "        with open(self.file_path, 'r') as f:\n",
    "            lines = f.readlines()\n",
    "            operon = None\n",
    "            for line in lines:\n",
    "                \n",
    "                fields = line.split('\\t')\n",
    "                if fields[0] == 'Operon':\n",
    "                    continue  # skip header line\n",
    "                elif fields[0].strip().isdigit():\n",
    "                    if operon is not None:\n",
    "                        operons.append(operon)\n",
    "                    operon = {'id': int(fields[0].strip()), 'genes': []}\n",
    "                elif operon is not None:\n",
    "                    gene_fields = fields\n",
    "                    if len(gene_fields) == 2:\n",
    "                        continue\n",
    "                    \n",
    "                    gene = {\n",
    "                        'id': gene_fields[1],\n",
    "                        'type': gene_fields[2],\n",
    "                        'cog_gene': gene_fields[3],\n",
    "                        'pos_left': int(gene_fields[4]) if fields[4].isdigit() else None,\n",
    "                        'pos_right': int(gene_fields[5]) if fields[5].isdigit() else None,\n",
    "                        'strand': gene_fields[6],\n",
    "                        'function': ' '.join(gene_fields[7:]) if len(gene_fields) > 7 else None\n",
    "                    }\n",
    "                    operon['genes'].append(gene)\n",
    "            if operon is not None:\n",
    "                operons.append(operon)\n",
    "        return operons\n",
    "    \n",
    "    @classmethod\n",
    "    def find_operons_by_keywords(cls, file_path, keywords):\n",
    "        reader = cls(file_path)\n",
    "        operons = reader.read_operons()\n",
    "        \n",
    "        result = []\n",
    "        for operon in operons:\n",
    "            for gene in operon['genes']:\n",
    "                if gene['function'] is not None:\n",
    "                    for keyword in keywords:\n",
    "                        if keyword in gene['function'].lower():\n",
    "                            result.append(operon)\n",
    "                            break\n",
    "                    else:\n",
    "                        continue\n",
    "                    break\n",
    "        \n",
    "        return result"
   ]
  },
  {
   "attachments": {},
   "cell_type": "markdown",
   "metadata": {},
   "source": [
    "chatGPT: i give you a file contains multiple operons with genes relevant to carbon/nitorgen/phosphorus, please tell me what operon has two of them to show co-regulation information:"
   ]
  },
  {
   "cell_type": "code",
   "execution_count": 318,
   "metadata": {},
   "outputs": [],
   "source": [
    "def adjust_annotations(annotations, xlim, y_range):\n",
    "    normlization = 10\n",
    "    # Calculate the length of the x-axis\n",
    "    x_length = xlim[1] - xlim[0]\n",
    "\n",
    "    # Initialize a list to store adjusted annotations\n",
    "    new_annotations = []\n",
    "\n",
    "    # Loop through each annotation in the input list\n",
    "    for i, ann in enumerate(annotations):\n",
    "        if ann['text'] == \"NA\\n\" or ann['text'] == \"NA\":\n",
    "            \n",
    "            new_annotations.append(ann)\n",
    "            continue\n",
    "        # Check if this annotation overlaps with any previous annotations\n",
    "        overlap = False\n",
    "        for prev_ann in new_annotations:\n",
    "            if prev_ann['text']==\"NA\\n\" or prev_ann['text']==\"NA\":\n",
    "                continue\n",
    "            if abs(prev_ann['x'] - ann['x']) < x_length / normlization and abs(prev_ann['y'] - ann['y']) < y_range:\n",
    "                overlap = True\n",
    "                #print(\"overlapped\",ann['text'],\"previous\",prev_ann['text'])\n",
    "                break\n",
    "        \n",
    "        # If there's an overlap, adjust the y-coordinate of this annotation\n",
    "        if overlap:\n",
    "            ann['x'] += x_length / normlization\n",
    "            \n",
    "            # Check if the adjusted annotation overlaps with any previous annotations\n",
    "            while True:\n",
    "                overlap = False\n",
    "                for prev_ann in new_annotations:\n",
    "                    if prev_ann['text']==\"NA\\n\" or prev_ann['text']==\"NA\":\n",
    "                        continue\n",
    "                    if abs(prev_ann['x'] - ann['x']) < x_length / normlization and abs(prev_ann['y'] - ann['y']) < y_range:\n",
    "                        overlap = True\n",
    "                        break\n",
    "                if overlap:\n",
    "                    ann['x'] += x_length / normlization\n",
    "                else:\n",
    "                    break\n",
    "        \n",
    "        # Add this annotation to the new list\n",
    "        new_annotations.append(ann)\n",
    "        \n",
    "    # Return the adjusted list of annotations\n",
    "    return new_annotations\n"
   ]
  },
  {
   "cell_type": "code",
   "execution_count": 329,
   "metadata": {},
   "outputs": [],
   "source": [
    "class OperonVisualizer:\n",
    "    def __init__(self, operons):\n",
    "        self.operons = operons\n",
    "    \n",
    "    def visualize(self):\n",
    "        fig = go.Figure()\n",
    "        colors = ['red', 'green', 'blue', 'purple', 'orange', 'pink', 'gray']\n",
    "        max_right = 0\n",
    "        annotations = [] # for text\n",
    "        annotations2 = [] # for +/-\n",
    "        i = 0 # y axis count\n",
    "        \n",
    "        for operon in self.operons:\n",
    "            i += 1\n",
    "            num_genes = len(operon['genes'])\n",
    "            if num_genes <= 1:\n",
    "                i -= 1\n",
    "                continue\n",
    "\n",
    "            duplicates = [] # remove duplicate functions within each operon\n",
    "            for j, gene in enumerate(operon['genes']):\n",
    "                if gene['function'] not in duplicates:\n",
    "                    duplicates.append(gene['function'])\n",
    "                else:\n",
    "                    gene['function'] = '' # hide text if duplicated functions\n",
    "\n",
    "                if gene['pos_right'] is not None and gene['pos_right'] > max_right:\n",
    "                    max_right = gene['pos_right']\n",
    "                if gene['pos_left'] is not None and gene['pos_right'] is not None:\n",
    "                    fig.add_shape(\n",
    "                        type='line',\n",
    "                        x0=gene['pos_left'],\n",
    "                        y0=i,\n",
    "                        x1=gene['pos_right'],\n",
    "                        y1=i,\n",
    "                        line=dict(color=colors[i%len(colors)], width=5),\n",
    "                    )\n",
    "                    \n",
    "                    if num_genes > 1:\n",
    "                        xanchor = 'center'\n",
    "                        if j == 0:\n",
    "                            xanchor = 'right'\n",
    "                        elif j == num_genes - 1:\n",
    "                            xanchor = 'left'\n",
    "                    else:\n",
    "                        xanchor = 'center'\n",
    "                    \n",
    "                    # Split the function text into multiple lines based on the maximum number of characters per line\n",
    "                    max_char_per_line = 25\n",
    "                    function_text = gene['function'] if gene['function'] is not None else \"\"\n",
    "                    function_lines = []\n",
    "                    line = \"\"\n",
    "                    for word in function_text.split():\n",
    "                        if len(line + \" \" + word) <= max_char_per_line:\n",
    "                            line += \" \" + word\n",
    "                        else:\n",
    "                            function_lines.append(line.strip())\n",
    "                            line = word\n",
    "                    function_lines.append(line.strip())\n",
    "                    \n",
    "                    # Calculate the padding based on the number of lines of the text\n",
    "                    padding = 0.2 + (len(function_lines) - 1) * 0.08\n",
    "                    midpoint = (gene['pos_left'] + gene['pos_right'])/2\n",
    "\n",
    "                    if gene['function']==\"NA\\n\":\n",
    "                        annotations.append(dict(\n",
    "                            x=midpoint,\n",
    "                            y=i-padding,\n",
    "                            text='<br>'.join(function_lines),\n",
    "                            showarrow=False,\n",
    "                            font=dict(color='black', size=12),\n",
    "                            xanchor=xanchor,\n",
    "                        ))\n",
    "                    else:\n",
    "                        annotations.append(dict(\n",
    "                            x=midpoint,\n",
    "                            y=i+padding,\n",
    "                            text='<br>'.join(function_lines),\n",
    "                            showarrow=False,\n",
    "                            font=dict(color='black', size=12),\n",
    "                            xanchor=xanchor,\n",
    "                        ))\n",
    "                    \n",
    "\n",
    "                    # Add +/- symbols to indicate the strand of the DNA\n",
    "                    \n",
    "                    if gene['strand'] == '+':\n",
    "                        annotations2.append(dict(\n",
    "                            x=midpoint,\n",
    "                            y=i,\n",
    "                            text='+',\n",
    "                            showarrow=False,\n",
    "                            font=dict(color='black', size=12),\n",
    "                            xanchor='left',\n",
    "                        ))\n",
    "                    elif gene['strand'] == '-':\n",
    "                        annotations2.append(dict(\n",
    "                            x=midpoint,\n",
    "                            y=i,\n",
    "                            text='-',\n",
    "                            showarrow=False,\n",
    "                            font=dict(color='black', size=12),\n",
    "                            xanchor='left',\n",
    "                        ))\n",
    "                   \n",
    "        h = 500 + 50*len(self.operons)     \n",
    "        \n",
    "        fig.update_layout(\n",
    "            \n",
    "            xaxis=dict(\n",
    "                title='Position on Genome',\n",
    "                range=[0, max_right + 100],\n",
    "            ),\n",
    "            yaxis=dict(\n",
    "                title='Operons',\n",
    "                tickmode='linear',\n",
    "                dtick=1,\n",
    "                range=[0, i+1],\n",
    "            ),\n",
    "            height=h,\n",
    "            width=h*0.85,\n",
    "        )\n",
    "        \n",
    "        # manual fint-tuning\n",
    "        \n",
    "        annotations = adjust_annotations(annotations,fig.layout.xaxis.range,0.2)\n",
    "        annotations += annotations2\n",
    "        fig.update_layout(annotations=annotations)\n",
    "        \n",
    "        fig.show()\n",
    "        return fig,annotations\n"
   ]
  },
  {
   "cell_type": "code",
   "execution_count": 330,
   "metadata": {},
   "outputs": [],
   "source": [
    "def split_operons(operons, max_operons_per_fig):\n",
    "    num_operons = len(operons)\n",
    "    num_figs = math.ceil(num_operons / max_operons_per_fig)\n",
    "    operon_chunks = [operons[i:i+max_operons_per_fig] for i in range(0, num_operons, max_operons_per_fig)]\n",
    "    return operon_chunks\n",
    "\n",
    "\n"
   ]
  },
  {
   "cell_type": "code",
   "execution_count": 331,
   "metadata": {},
   "outputs": [],
   "source": [
    "p18 = \"./data/cropps_summer_tax/18/operon/list_of_operons_296772\"\n",
    "p22 = \"./data/cropps_summer_tax/22/680027/list_of_operons_680027\"\n",
    "\n",
    "def plot_operon(path,title,kw=['phos', 'carbon', 'nitro']):\n",
    "    reader = OperonFileReader(path)\n",
    "    operons = reader.find_operons_by_keywords(path,kw)\n",
    "    with open(path+\".json\",\"w\") as f:\n",
    "        json.dump(operons,f)\n",
    "    # Define the maximum number of operons per figure\n",
    "    max_operons_per_fig = 20\n",
    "\n",
    "    # Split the operons into chunks\n",
    "    operon_chunks = split_operons(operons, max_operons_per_fig)\n",
    "\n",
    "    # Iterate over the operon chunks and create a separate figure for each chunk\n",
    "    for i, operon_chunk in enumerate(operon_chunks):\n",
    "        fig,annotations = OperonVisualizer(operon_chunk).visualize()\n",
    "        fig.write_image(f'operon_visualizer_{title}_{i+1}.png')\n",
    "    return annotations\n",
    "    "
   ]
  },
  {
   "cell_type": "code",
   "execution_count": 332,
   "metadata": {},
   "outputs": [
    {
     "data": {
      "application/vnd.plotly.v1+json": {
       "config": {
        "plotlyServerURL": "https://plot.ly"
       },
       "data": [],
       "layout": {
        "annotations": [
         {
          "font": {
           "color": "black",
           "size": 12
          },
          "showarrow": false,
          "text": "[E] Cysteine sulfinate<br>desulfinase/cysteine<br>desulfurase and related",
          "x": 417.5,
          "xanchor": "right",
          "y": 1.3599999999999999
         },
         {
          "font": {
           "color": "black",
           "size": 12
          },
          "showarrow": false,
          "text": "[H] Thiamine<br>biosynthesis ATP<br>pyrophosphatase",
          "x": 2285.1,
          "xanchor": "left",
          "y": 1.3599999999999999
         },
         {
          "font": {
           "color": "black",
           "size": 12
          },
          "showarrow": false,
          "text": "[P] ABC-type<br>nitrate/sulfonate/bicarbonate<br>transport system,<br>permease component",
          "x": 1134,
          "xanchor": "right",
          "y": 2.44
         },
         {
          "font": {
           "color": "black",
           "size": 12
          },
          "showarrow": false,
          "text": "[P] ABC-type<br>nitrate/sulfonate/bicarbonate<br>transport systems,<br>periplasmic components",
          "x": 3153.6,
          "xanchor": "left",
          "y": 2.44
         },
         {
          "font": {
           "color": "black",
           "size": 12
          },
          "showarrow": false,
          "text": "[M]<br>UDP-N-acetylglucosamine<br>enolpyruvyl transferase",
          "x": 3023,
          "xanchor": "right",
          "y": 3.36
         },
         {
          "font": {
           "color": "black",
           "size": 12
          },
          "showarrow": false,
          "text": "[G]<br>Fructose-1,6-bisphosphatase/sedoheptulose<br>1,7-bisphosphatase and<br>related proteins",
          "x": 4576,
          "xanchor": "left",
          "y": 3.44
         },
         {
          "font": {
           "color": "black",
           "size": 12
          },
          "showarrow": false,
          "text": "[S] Uncharacterized<br>protein conserved in<br>bacteria",
          "x": 6626,
          "xanchor": "right",
          "y": 4.36
         },
         {
          "font": {
           "color": "black",
           "size": 12
          },
          "showarrow": false,
          "text": "[G] Ribose 5-phosphate<br>isomerase RpiB",
          "x": 8257.1,
          "xanchor": "left",
          "y": 4.28
         },
         {
          "font": {
           "color": "black",
           "size": 12
          },
          "showarrow": false,
          "text": "[NT] Methyl-accepting<br>chemotaxis protein",
          "x": 8222,
          "xanchor": "right",
          "y": 5.28
         },
         {
          "font": {
           "color": "black",
           "size": 12
          },
          "showarrow": false,
          "text": "[T]<br>Protein-tyrosine-phosphatase",
          "x": 10152.1,
          "xanchor": "center",
          "y": 5.28
         },
         {
          "font": {
           "color": "black",
           "size": 12
          },
          "showarrow": false,
          "text": "[S] Predicted membrane<br>protein",
          "x": 11811.7,
          "xanchor": "left",
          "y": 5.28
         },
         {
          "font": {
           "color": "black",
           "size": 12
          },
          "showarrow": false,
          "text": "NA",
          "x": 3841,
          "xanchor": "right",
          "y": 5.8
         },
         {
          "font": {
           "color": "black",
           "size": 12
          },
          "showarrow": false,
          "text": "[F]<br>Phosphoribosylformylglycinamidine<br>(FGAM) synthase,<br>synthetase domain",
          "x": 4038,
          "xanchor": "center",
          "y": 6.44
         },
         {
          "font": {
           "color": "black",
           "size": 12
          },
          "showarrow": false,
          "text": "",
          "x": 4237.5,
          "xanchor": "center",
          "y": 6.2
         },
         {
          "font": {
           "color": "black",
           "size": 12
          },
          "showarrow": false,
          "text": "",
          "x": 5492.1,
          "xanchor": "center",
          "y": 6.2
         },
         {
          "font": {
           "color": "black",
           "size": 12
          },
          "showarrow": false,
          "text": "[L] DNA replication<br>protein",
          "x": 7027.700000000001,
          "xanchor": "center",
          "y": 6.28
         },
         {
          "font": {
           "color": "black",
           "size": 12
          },
          "showarrow": false,
          "text": "",
          "x": 8793.300000000001,
          "xanchor": "left",
          "y": 6.2
         },
         {
          "font": {
           "color": "black",
           "size": 12
          },
          "showarrow": false,
          "text": "NA",
          "x": 2924.5,
          "xanchor": "right",
          "y": 6.8
         },
         {
          "font": {
           "color": "black",
           "size": 12
          },
          "showarrow": false,
          "text": "[T] Carbon starvation<br>protein, predicted<br>membrane protein",
          "x": 3798,
          "xanchor": "left",
          "y": 7.36
         },
         {
          "font": {
           "color": "black",
           "size": 12
          },
          "showarrow": false,
          "text": "[G] Phosphomannomutase",
          "x": 3252.5,
          "xanchor": "right",
          "y": 8.2
         },
         {
          "font": {
           "color": "black",
           "size": 12
          },
          "showarrow": false,
          "text": "[S] Uncharacterized<br>protein conserved in<br>bacteria",
          "x": 5099.1,
          "xanchor": "center",
          "y": 8.36
         },
         {
          "font": {
           "color": "black",
           "size": 12
          },
          "showarrow": false,
          "text": "[S] Uncharacterized<br>conserved protein",
          "x": 6121.6,
          "xanchor": "left",
          "y": 8.28
         },
         {
          "font": {
           "color": "black",
           "size": 12
          },
          "showarrow": false,
          "text": "+",
          "x": 417.5,
          "xanchor": "left",
          "y": 1
         },
         {
          "font": {
           "color": "black",
           "size": 12
          },
          "showarrow": false,
          "text": "+",
          "x": 1269,
          "xanchor": "left",
          "y": 1
         },
         {
          "font": {
           "color": "black",
           "size": 12
          },
          "showarrow": false,
          "text": "-",
          "x": 1134,
          "xanchor": "left",
          "y": 2
         },
         {
          "font": {
           "color": "black",
           "size": 12
          },
          "showarrow": false,
          "text": "-",
          "x": 2137.5,
          "xanchor": "left",
          "y": 2
         },
         {
          "font": {
           "color": "black",
           "size": 12
          },
          "showarrow": false,
          "text": "+",
          "x": 3023,
          "xanchor": "left",
          "y": 3
         },
         {
          "font": {
           "color": "black",
           "size": 12
          },
          "showarrow": false,
          "text": "+",
          "x": 4576,
          "xanchor": "left",
          "y": 3
         },
         {
          "font": {
           "color": "black",
           "size": 12
          },
          "showarrow": false,
          "text": "-",
          "x": 6626,
          "xanchor": "left",
          "y": 4
         },
         {
          "font": {
           "color": "black",
           "size": 12
          },
          "showarrow": false,
          "text": "-",
          "x": 7241,
          "xanchor": "left",
          "y": 4
         },
         {
          "font": {
           "color": "black",
           "size": 12
          },
          "showarrow": false,
          "text": "-",
          "x": 8222,
          "xanchor": "left",
          "y": 5
         },
         {
          "font": {
           "color": "black",
           "size": 12
          },
          "showarrow": false,
          "text": "-",
          "x": 9136,
          "xanchor": "left",
          "y": 5
         },
         {
          "font": {
           "color": "black",
           "size": 12
          },
          "showarrow": false,
          "text": "-",
          "x": 9779.5,
          "xanchor": "left",
          "y": 5
         },
         {
          "font": {
           "color": "black",
           "size": 12
          },
          "showarrow": false,
          "text": "-",
          "x": 3841,
          "xanchor": "left",
          "y": 6
         },
         {
          "font": {
           "color": "black",
           "size": 12
          },
          "showarrow": false,
          "text": "-",
          "x": 4038,
          "xanchor": "left",
          "y": 6
         },
         {
          "font": {
           "color": "black",
           "size": 12
          },
          "showarrow": false,
          "text": "-",
          "x": 4237.5,
          "xanchor": "left",
          "y": 6
         },
         {
          "font": {
           "color": "black",
           "size": 12
          },
          "showarrow": false,
          "text": "-",
          "x": 4476,
          "xanchor": "left",
          "y": 6
         },
         {
          "font": {
           "color": "black",
           "size": 12
          },
          "showarrow": false,
          "text": "-",
          "x": 4995.5,
          "xanchor": "left",
          "y": 6
         },
         {
          "font": {
           "color": "black",
           "size": 12
          },
          "showarrow": false,
          "text": "-",
          "x": 5745,
          "xanchor": "left",
          "y": 6
         },
         {
          "font": {
           "color": "black",
           "size": 12
          },
          "showarrow": false,
          "text": "-",
          "x": 2924.5,
          "xanchor": "left",
          "y": 7
         },
         {
          "font": {
           "color": "black",
           "size": 12
          },
          "showarrow": false,
          "text": "-",
          "x": 3798,
          "xanchor": "left",
          "y": 7
         },
         {
          "font": {
           "color": "black",
           "size": 12
          },
          "showarrow": false,
          "text": "-",
          "x": 3252.5,
          "xanchor": "left",
          "y": 8
         },
         {
          "font": {
           "color": "black",
           "size": 12
          },
          "showarrow": false,
          "text": "-",
          "x": 4083,
          "xanchor": "left",
          "y": 8
         },
         {
          "font": {
           "color": "black",
           "size": 12
          },
          "showarrow": false,
          "text": "-",
          "x": 5105.5,
          "xanchor": "left",
          "y": 8
         }
        ],
        "height": 1150,
        "shapes": [
         {
          "line": {
           "color": "green",
           "width": 5
          },
          "type": "line",
          "x0": 34,
          "x1": 801,
          "y0": 1,
          "y1": 1
         },
         {
          "line": {
           "color": "green",
           "width": 5
          },
          "type": "line",
          "x0": 803,
          "x1": 1735,
          "y0": 1,
          "y1": 1
         },
         {
          "line": {
           "color": "blue",
           "width": 5
          },
          "type": "line",
          "x0": 635,
          "x1": 1633,
          "y0": 2,
          "y1": 2
         },
         {
          "line": {
           "color": "blue",
           "width": 5
          },
          "type": "line",
          "x0": 1640,
          "x1": 2635,
          "y0": 2,
          "y1": 2
         },
         {
          "line": {
           "color": "purple",
           "width": 5
          },
          "type": "line",
          "x0": 2380,
          "x1": 3666,
          "y0": 3,
          "y1": 3
         },
         {
          "line": {
           "color": "purple",
           "width": 5
          },
          "type": "line",
          "x0": 4095,
          "x1": 5057,
          "y0": 3,
          "y1": 3
         },
         {
          "line": {
           "color": "orange",
           "width": 5
          },
          "type": "line",
          "x0": 6340,
          "x1": 6912,
          "y0": 4,
          "y1": 4
         },
         {
          "line": {
           "color": "orange",
           "width": 5
          },
          "type": "line",
          "x0": 7015,
          "x1": 7467,
          "y0": 4,
          "y1": 4
         },
         {
          "line": {
           "color": "pink",
           "width": 5
          },
          "type": "line",
          "x0": 7579,
          "x1": 8865,
          "y0": 5,
          "y1": 5
         },
         {
          "line": {
           "color": "pink",
           "width": 5
          },
          "type": "line",
          "x0": 8886,
          "x1": 9386,
          "y0": 5,
          "y1": 5
         },
         {
          "line": {
           "color": "pink",
           "width": 5
          },
          "type": "line",
          "x0": 9498,
          "x1": 10061,
          "y0": 5,
          "y1": 5
         },
         {
          "line": {
           "color": "gray",
           "width": 5
          },
          "type": "line",
          "x0": 3741,
          "x1": 3941,
          "y0": 6,
          "y1": 6
         },
         {
          "line": {
           "color": "gray",
           "width": 5
          },
          "type": "line",
          "x0": 3956,
          "x1": 4120,
          "y0": 6,
          "y1": 6
         },
         {
          "line": {
           "color": "gray",
           "width": 5
          },
          "type": "line",
          "x0": 4133,
          "x1": 4342,
          "y0": 6,
          "y1": 6
         },
         {
          "line": {
           "color": "gray",
           "width": 5
          },
          "type": "line",
          "x0": 4346,
          "x1": 4606,
          "y0": 6,
          "y1": 6
         },
         {
          "line": {
           "color": "gray",
           "width": 5
          },
          "type": "line",
          "x0": 4606,
          "x1": 5385,
          "y0": 6,
          "y1": 6
         },
         {
          "line": {
           "color": "gray",
           "width": 5
          },
          "type": "line",
          "x0": 5333,
          "x1": 6157,
          "y0": 6,
          "y1": 6
         },
         {
          "line": {
           "color": "red",
           "width": 5
          },
          "type": "line",
          "x0": 2835,
          "x1": 3014,
          "y0": 7,
          "y1": 7
         },
         {
          "line": {
           "color": "red",
           "width": 5
          },
          "type": "line",
          "x0": 3071,
          "x1": 4525,
          "y0": 7,
          "y1": 7
         },
         {
          "line": {
           "color": "green",
           "width": 5
          },
          "type": "line",
          "x0": 3076,
          "x1": 3429,
          "y0": 8,
          "y1": 8
         },
         {
          "line": {
           "color": "green",
           "width": 5
          },
          "type": "line",
          "x0": 3464,
          "x1": 4702,
          "y0": 8,
          "y1": 8
         },
         {
          "line": {
           "color": "green",
           "width": 5
          },
          "type": "line",
          "x0": 4695,
          "x1": 5516,
          "y0": 8,
          "y1": 8
         }
        ],
        "template": {
         "data": {
          "bar": [
           {
            "error_x": {
             "color": "#2a3f5f"
            },
            "error_y": {
             "color": "#2a3f5f"
            },
            "marker": {
             "line": {
              "color": "#E5ECF6",
              "width": 0.5
             },
             "pattern": {
              "fillmode": "overlay",
              "size": 10,
              "solidity": 0.2
             }
            },
            "type": "bar"
           }
          ],
          "barpolar": [
           {
            "marker": {
             "line": {
              "color": "#E5ECF6",
              "width": 0.5
             },
             "pattern": {
              "fillmode": "overlay",
              "size": 10,
              "solidity": 0.2
             }
            },
            "type": "barpolar"
           }
          ],
          "carpet": [
           {
            "aaxis": {
             "endlinecolor": "#2a3f5f",
             "gridcolor": "white",
             "linecolor": "white",
             "minorgridcolor": "white",
             "startlinecolor": "#2a3f5f"
            },
            "baxis": {
             "endlinecolor": "#2a3f5f",
             "gridcolor": "white",
             "linecolor": "white",
             "minorgridcolor": "white",
             "startlinecolor": "#2a3f5f"
            },
            "type": "carpet"
           }
          ],
          "choropleth": [
           {
            "colorbar": {
             "outlinewidth": 0,
             "ticks": ""
            },
            "type": "choropleth"
           }
          ],
          "contour": [
           {
            "colorbar": {
             "outlinewidth": 0,
             "ticks": ""
            },
            "colorscale": [
             [
              0,
              "#0d0887"
             ],
             [
              0.1111111111111111,
              "#46039f"
             ],
             [
              0.2222222222222222,
              "#7201a8"
             ],
             [
              0.3333333333333333,
              "#9c179e"
             ],
             [
              0.4444444444444444,
              "#bd3786"
             ],
             [
              0.5555555555555556,
              "#d8576b"
             ],
             [
              0.6666666666666666,
              "#ed7953"
             ],
             [
              0.7777777777777778,
              "#fb9f3a"
             ],
             [
              0.8888888888888888,
              "#fdca26"
             ],
             [
              1,
              "#f0f921"
             ]
            ],
            "type": "contour"
           }
          ],
          "contourcarpet": [
           {
            "colorbar": {
             "outlinewidth": 0,
             "ticks": ""
            },
            "type": "contourcarpet"
           }
          ],
          "heatmap": [
           {
            "colorbar": {
             "outlinewidth": 0,
             "ticks": ""
            },
            "colorscale": [
             [
              0,
              "#0d0887"
             ],
             [
              0.1111111111111111,
              "#46039f"
             ],
             [
              0.2222222222222222,
              "#7201a8"
             ],
             [
              0.3333333333333333,
              "#9c179e"
             ],
             [
              0.4444444444444444,
              "#bd3786"
             ],
             [
              0.5555555555555556,
              "#d8576b"
             ],
             [
              0.6666666666666666,
              "#ed7953"
             ],
             [
              0.7777777777777778,
              "#fb9f3a"
             ],
             [
              0.8888888888888888,
              "#fdca26"
             ],
             [
              1,
              "#f0f921"
             ]
            ],
            "type": "heatmap"
           }
          ],
          "heatmapgl": [
           {
            "colorbar": {
             "outlinewidth": 0,
             "ticks": ""
            },
            "colorscale": [
             [
              0,
              "#0d0887"
             ],
             [
              0.1111111111111111,
              "#46039f"
             ],
             [
              0.2222222222222222,
              "#7201a8"
             ],
             [
              0.3333333333333333,
              "#9c179e"
             ],
             [
              0.4444444444444444,
              "#bd3786"
             ],
             [
              0.5555555555555556,
              "#d8576b"
             ],
             [
              0.6666666666666666,
              "#ed7953"
             ],
             [
              0.7777777777777778,
              "#fb9f3a"
             ],
             [
              0.8888888888888888,
              "#fdca26"
             ],
             [
              1,
              "#f0f921"
             ]
            ],
            "type": "heatmapgl"
           }
          ],
          "histogram": [
           {
            "marker": {
             "pattern": {
              "fillmode": "overlay",
              "size": 10,
              "solidity": 0.2
             }
            },
            "type": "histogram"
           }
          ],
          "histogram2d": [
           {
            "colorbar": {
             "outlinewidth": 0,
             "ticks": ""
            },
            "colorscale": [
             [
              0,
              "#0d0887"
             ],
             [
              0.1111111111111111,
              "#46039f"
             ],
             [
              0.2222222222222222,
              "#7201a8"
             ],
             [
              0.3333333333333333,
              "#9c179e"
             ],
             [
              0.4444444444444444,
              "#bd3786"
             ],
             [
              0.5555555555555556,
              "#d8576b"
             ],
             [
              0.6666666666666666,
              "#ed7953"
             ],
             [
              0.7777777777777778,
              "#fb9f3a"
             ],
             [
              0.8888888888888888,
              "#fdca26"
             ],
             [
              1,
              "#f0f921"
             ]
            ],
            "type": "histogram2d"
           }
          ],
          "histogram2dcontour": [
           {
            "colorbar": {
             "outlinewidth": 0,
             "ticks": ""
            },
            "colorscale": [
             [
              0,
              "#0d0887"
             ],
             [
              0.1111111111111111,
              "#46039f"
             ],
             [
              0.2222222222222222,
              "#7201a8"
             ],
             [
              0.3333333333333333,
              "#9c179e"
             ],
             [
              0.4444444444444444,
              "#bd3786"
             ],
             [
              0.5555555555555556,
              "#d8576b"
             ],
             [
              0.6666666666666666,
              "#ed7953"
             ],
             [
              0.7777777777777778,
              "#fb9f3a"
             ],
             [
              0.8888888888888888,
              "#fdca26"
             ],
             [
              1,
              "#f0f921"
             ]
            ],
            "type": "histogram2dcontour"
           }
          ],
          "mesh3d": [
           {
            "colorbar": {
             "outlinewidth": 0,
             "ticks": ""
            },
            "type": "mesh3d"
           }
          ],
          "parcoords": [
           {
            "line": {
             "colorbar": {
              "outlinewidth": 0,
              "ticks": ""
             }
            },
            "type": "parcoords"
           }
          ],
          "pie": [
           {
            "automargin": true,
            "type": "pie"
           }
          ],
          "scatter": [
           {
            "fillpattern": {
             "fillmode": "overlay",
             "size": 10,
             "solidity": 0.2
            },
            "type": "scatter"
           }
          ],
          "scatter3d": [
           {
            "line": {
             "colorbar": {
              "outlinewidth": 0,
              "ticks": ""
             }
            },
            "marker": {
             "colorbar": {
              "outlinewidth": 0,
              "ticks": ""
             }
            },
            "type": "scatter3d"
           }
          ],
          "scattercarpet": [
           {
            "marker": {
             "colorbar": {
              "outlinewidth": 0,
              "ticks": ""
             }
            },
            "type": "scattercarpet"
           }
          ],
          "scattergeo": [
           {
            "marker": {
             "colorbar": {
              "outlinewidth": 0,
              "ticks": ""
             }
            },
            "type": "scattergeo"
           }
          ],
          "scattergl": [
           {
            "marker": {
             "colorbar": {
              "outlinewidth": 0,
              "ticks": ""
             }
            },
            "type": "scattergl"
           }
          ],
          "scattermapbox": [
           {
            "marker": {
             "colorbar": {
              "outlinewidth": 0,
              "ticks": ""
             }
            },
            "type": "scattermapbox"
           }
          ],
          "scatterpolar": [
           {
            "marker": {
             "colorbar": {
              "outlinewidth": 0,
              "ticks": ""
             }
            },
            "type": "scatterpolar"
           }
          ],
          "scatterpolargl": [
           {
            "marker": {
             "colorbar": {
              "outlinewidth": 0,
              "ticks": ""
             }
            },
            "type": "scatterpolargl"
           }
          ],
          "scatterternary": [
           {
            "marker": {
             "colorbar": {
              "outlinewidth": 0,
              "ticks": ""
             }
            },
            "type": "scatterternary"
           }
          ],
          "surface": [
           {
            "colorbar": {
             "outlinewidth": 0,
             "ticks": ""
            },
            "colorscale": [
             [
              0,
              "#0d0887"
             ],
             [
              0.1111111111111111,
              "#46039f"
             ],
             [
              0.2222222222222222,
              "#7201a8"
             ],
             [
              0.3333333333333333,
              "#9c179e"
             ],
             [
              0.4444444444444444,
              "#bd3786"
             ],
             [
              0.5555555555555556,
              "#d8576b"
             ],
             [
              0.6666666666666666,
              "#ed7953"
             ],
             [
              0.7777777777777778,
              "#fb9f3a"
             ],
             [
              0.8888888888888888,
              "#fdca26"
             ],
             [
              1,
              "#f0f921"
             ]
            ],
            "type": "surface"
           }
          ],
          "table": [
           {
            "cells": {
             "fill": {
              "color": "#EBF0F8"
             },
             "line": {
              "color": "white"
             }
            },
            "header": {
             "fill": {
              "color": "#C8D4E3"
             },
             "line": {
              "color": "white"
             }
            },
            "type": "table"
           }
          ]
         },
         "layout": {
          "annotationdefaults": {
           "arrowcolor": "#2a3f5f",
           "arrowhead": 0,
           "arrowwidth": 1
          },
          "autotypenumbers": "strict",
          "coloraxis": {
           "colorbar": {
            "outlinewidth": 0,
            "ticks": ""
           }
          },
          "colorscale": {
           "diverging": [
            [
             0,
             "#8e0152"
            ],
            [
             0.1,
             "#c51b7d"
            ],
            [
             0.2,
             "#de77ae"
            ],
            [
             0.3,
             "#f1b6da"
            ],
            [
             0.4,
             "#fde0ef"
            ],
            [
             0.5,
             "#f7f7f7"
            ],
            [
             0.6,
             "#e6f5d0"
            ],
            [
             0.7,
             "#b8e186"
            ],
            [
             0.8,
             "#7fbc41"
            ],
            [
             0.9,
             "#4d9221"
            ],
            [
             1,
             "#276419"
            ]
           ],
           "sequential": [
            [
             0,
             "#0d0887"
            ],
            [
             0.1111111111111111,
             "#46039f"
            ],
            [
             0.2222222222222222,
             "#7201a8"
            ],
            [
             0.3333333333333333,
             "#9c179e"
            ],
            [
             0.4444444444444444,
             "#bd3786"
            ],
            [
             0.5555555555555556,
             "#d8576b"
            ],
            [
             0.6666666666666666,
             "#ed7953"
            ],
            [
             0.7777777777777778,
             "#fb9f3a"
            ],
            [
             0.8888888888888888,
             "#fdca26"
            ],
            [
             1,
             "#f0f921"
            ]
           ],
           "sequentialminus": [
            [
             0,
             "#0d0887"
            ],
            [
             0.1111111111111111,
             "#46039f"
            ],
            [
             0.2222222222222222,
             "#7201a8"
            ],
            [
             0.3333333333333333,
             "#9c179e"
            ],
            [
             0.4444444444444444,
             "#bd3786"
            ],
            [
             0.5555555555555556,
             "#d8576b"
            ],
            [
             0.6666666666666666,
             "#ed7953"
            ],
            [
             0.7777777777777778,
             "#fb9f3a"
            ],
            [
             0.8888888888888888,
             "#fdca26"
            ],
            [
             1,
             "#f0f921"
            ]
           ]
          },
          "colorway": [
           "#636efa",
           "#EF553B",
           "#00cc96",
           "#ab63fa",
           "#FFA15A",
           "#19d3f3",
           "#FF6692",
           "#B6E880",
           "#FF97FF",
           "#FECB52"
          ],
          "font": {
           "color": "#2a3f5f"
          },
          "geo": {
           "bgcolor": "white",
           "lakecolor": "white",
           "landcolor": "#E5ECF6",
           "showlakes": true,
           "showland": true,
           "subunitcolor": "white"
          },
          "hoverlabel": {
           "align": "left"
          },
          "hovermode": "closest",
          "mapbox": {
           "style": "light"
          },
          "paper_bgcolor": "white",
          "plot_bgcolor": "#E5ECF6",
          "polar": {
           "angularaxis": {
            "gridcolor": "white",
            "linecolor": "white",
            "ticks": ""
           },
           "bgcolor": "#E5ECF6",
           "radialaxis": {
            "gridcolor": "white",
            "linecolor": "white",
            "ticks": ""
           }
          },
          "scene": {
           "xaxis": {
            "backgroundcolor": "#E5ECF6",
            "gridcolor": "white",
            "gridwidth": 2,
            "linecolor": "white",
            "showbackground": true,
            "ticks": "",
            "zerolinecolor": "white"
           },
           "yaxis": {
            "backgroundcolor": "#E5ECF6",
            "gridcolor": "white",
            "gridwidth": 2,
            "linecolor": "white",
            "showbackground": true,
            "ticks": "",
            "zerolinecolor": "white"
           },
           "zaxis": {
            "backgroundcolor": "#E5ECF6",
            "gridcolor": "white",
            "gridwidth": 2,
            "linecolor": "white",
            "showbackground": true,
            "ticks": "",
            "zerolinecolor": "white"
           }
          },
          "shapedefaults": {
           "line": {
            "color": "#2a3f5f"
           }
          },
          "ternary": {
           "aaxis": {
            "gridcolor": "white",
            "linecolor": "white",
            "ticks": ""
           },
           "baxis": {
            "gridcolor": "white",
            "linecolor": "white",
            "ticks": ""
           },
           "bgcolor": "#E5ECF6",
           "caxis": {
            "gridcolor": "white",
            "linecolor": "white",
            "ticks": ""
           }
          },
          "title": {
           "x": 0.05
          },
          "xaxis": {
           "automargin": true,
           "gridcolor": "white",
           "linecolor": "white",
           "ticks": "",
           "title": {
            "standoff": 15
           },
           "zerolinecolor": "white",
           "zerolinewidth": 2
          },
          "yaxis": {
           "automargin": true,
           "gridcolor": "white",
           "linecolor": "white",
           "ticks": "",
           "title": {
            "standoff": 15
           },
           "zerolinecolor": "white",
           "zerolinewidth": 2
          }
         }
        },
        "width": 977.5,
        "xaxis": {
         "range": [
          0,
          10161
         ],
         "title": {
          "text": "Position on Genome"
         }
        },
        "yaxis": {
         "dtick": 1,
         "range": [
          0,
          9
         ],
         "tickmode": "linear",
         "title": {
          "text": "Operons"
         }
        }
       }
      }
     },
     "metadata": {},
     "output_type": "display_data"
    }
   ],
   "source": [
    "ann = plot_operon(p18,\"Maize18\")"
   ]
  },
  {
   "cell_type": "code",
   "execution_count": 333,
   "metadata": {},
   "outputs": [
    {
     "data": {
      "application/vnd.plotly.v1+json": {
       "config": {
        "plotlyServerURL": "https://plot.ly"
       },
       "data": [],
       "layout": {
        "annotations": [
         {
          "font": {
           "color": "black",
           "size": 12
          },
          "showarrow": false,
          "text": "[G] Glucan phosphorylase",
          "x": 7126.5,
          "xanchor": "right",
          "y": 1.2
         },
         {
          "font": {
           "color": "black",
           "size": 12
          },
          "showarrow": false,
          "text": "",
          "x": 8370,
          "xanchor": "center",
          "y": 1.2
         },
         {
          "font": {
           "color": "black",
           "size": 12
          },
          "showarrow": false,
          "text": "[G] Type II secretory<br>pathway, pullulanase PulA",
          "x": 10267.5,
          "xanchor": "center",
          "y": 1.28
         },
         {
          "font": {
           "color": "black",
           "size": 12
          },
          "showarrow": false,
          "text": "[L] Recombinational DNA<br>repair protein (RecF<br>pathway)",
          "x": 1800.5,
          "xanchor": "right",
          "y": 2.36
         },
         {
          "font": {
           "color": "black",
           "size": 12
          },
          "showarrow": false,
          "text": "[H] Pyridoxal phosphate<br>biosynthesis protein",
          "x": 3715.2,
          "xanchor": "center",
          "y": 2.2800000000000002
         },
         {
          "font": {
           "color": "black",
           "size": 12
          },
          "showarrow": false,
          "text": "[I] Phosphopantetheinyl<br>transferase (holo-ACP<br>synthase)",
          "x": 5466.9,
          "xanchor": "left",
          "y": 2.36
         },
         {
          "font": {
           "color": "black",
           "size": 12
          },
          "showarrow": false,
          "text": "[G] PEP phosphonomutase<br>and related enzymes",
          "x": 6023.5,
          "xanchor": "right",
          "y": 3.2800000000000002
         },
         {
          "font": {
           "color": "black",
           "size": 12
          },
          "showarrow": false,
          "text": "[C] Citrate synthase",
          "x": 8233.2,
          "xanchor": "left",
          "y": 3.2
         },
         {
          "font": {
           "color": "black",
           "size": 12
          },
          "showarrow": false,
          "text": "[F]<br>Orotidine-5'-phosphate<br>decarboxylase",
          "x": 1130.5,
          "xanchor": "right",
          "y": 4.36
         },
         {
          "font": {
           "color": "black",
           "size": 12
          },
          "showarrow": false,
          "text": "NA",
          "x": 1845.5,
          "xanchor": "left",
          "y": 3.8
         },
         {
          "font": {
           "color": "black",
           "size": 12
          },
          "showarrow": false,
          "text": "[H] Hydroxyethylthiazole<br>kinase, sugar kinase<br>family",
          "x": 665,
          "xanchor": "right",
          "y": 5.36
         },
         {
          "font": {
           "color": "black",
           "size": 12
          },
          "showarrow": false,
          "text": "[H] Thiamine<br>monophosphate synthase",
          "x": 2491.2,
          "xanchor": "center",
          "y": 5.28
         },
         {
          "font": {
           "color": "black",
           "size": 12
          },
          "showarrow": false,
          "text": "[U] Preprotein<br>translocase subunit YidC",
          "x": 4422.4,
          "xanchor": "left",
          "y": 5.28
         },
         {
          "font": {
           "color": "black",
           "size": 12
          },
          "showarrow": false,
          "text": "[M] Capsule<br>polysaccharide export<br>protein",
          "x": 2514.5,
          "xanchor": "right",
          "y": 6.36
         },
         {
          "font": {
           "color": "black",
           "size": 12
          },
          "showarrow": false,
          "text": "",
          "x": 4293,
          "xanchor": "center",
          "y": 6.2
         },
         {
          "font": {
           "color": "black",
           "size": 12
          },
          "showarrow": false,
          "text": "NA",
          "x": 5910.5,
          "xanchor": "center",
          "y": 5.8
         },
         {
          "font": {
           "color": "black",
           "size": 12
          },
          "showarrow": false,
          "text": "[M]<br>dTDP-4-dehydrorhamnose<br>3,5-epimerase and related<br>enzymes",
          "x": 6798,
          "xanchor": "center",
          "y": 6.44
         },
         {
          "font": {
           "color": "black",
           "size": 12
          },
          "showarrow": false,
          "text": "[M] dTDP-glucose<br>pyrophosphorylase",
          "x": 8666.2,
          "xanchor": "center",
          "y": 6.28
         },
         {
          "font": {
           "color": "black",
           "size": 12
          },
          "showarrow": false,
          "text": "",
          "x": 10273.400000000001,
          "xanchor": "center",
          "y": 6.2
         },
         {
          "font": {
           "color": "black",
           "size": 12
          },
          "showarrow": false,
          "text": "[M] dTDP-D-glucose<br>4,6-dehydratase",
          "x": 11927.100000000002,
          "xanchor": "center",
          "y": 6.28
         },
         {
          "font": {
           "color": "black",
           "size": 12
          },
          "showarrow": false,
          "text": "[M] UDP-glucose<br>4-epimerase",
          "x": 13085.600000000002,
          "xanchor": "center",
          "y": 6.28
         },
         {
          "font": {
           "color": "black",
           "size": 12
          },
          "showarrow": false,
          "text": "[L] N6-adenine-specific<br>methylase",
          "x": 1544.5,
          "xanchor": "right",
          "y": 7.28
         },
         {
          "font": {
           "color": "black",
           "size": 12
          },
          "showarrow": false,
          "text": "[H] Phosphopantetheine<br>adenylyltransferase",
          "x": 3165.7,
          "xanchor": "center",
          "y": 7.28
         },
         {
          "font": {
           "color": "black",
           "size": 12
          },
          "showarrow": false,
          "text": "[IQ] Acyl carrier<br>protein",
          "x": 132.5,
          "xanchor": "right",
          "y": 8.28
         },
         {
          "font": {
           "color": "black",
           "size": 12
          },
          "showarrow": false,
          "text": "[IQR] Dehydrogenases<br>with different<br>specificities (related to",
          "x": 1855.2,
          "xanchor": "center",
          "y": 8.36
         },
         {
          "font": {
           "color": "black",
           "size": 12
          },
          "showarrow": false,
          "text": "[I]<br>(acyl-carrier-protein)<br>S-malonyltransferase",
          "x": 3788.3999999999996,
          "xanchor": "center",
          "y": 8.36
         },
         {
          "font": {
           "color": "black",
           "size": 12
          },
          "showarrow": false,
          "text": "[I] Fatty<br>acid/phospholipid<br>biosynthesis enzyme",
          "x": 5486.099999999999,
          "xanchor": "center",
          "y": 8.36
         },
         {
          "font": {
           "color": "black",
           "size": 12
          },
          "showarrow": false,
          "text": "[E]<br>Phosphoribosylanthranilate<br>isomerase",
          "x": 343.5,
          "xanchor": "right",
          "y": 9.36
         },
         {
          "font": {
           "color": "black",
           "size": 12
          },
          "showarrow": false,
          "text": "[E] Indole-3-glycerol<br>phosphate synthase",
          "x": 2072.2,
          "xanchor": "left",
          "y": 9.28
         },
         {
          "font": {
           "color": "black",
           "size": 12
          },
          "showarrow": false,
          "text": "[S] Predicted membrane<br>protein",
          "x": 249,
          "xanchor": "right",
          "y": 10.28
         },
         {
          "font": {
           "color": "black",
           "size": 12
          },
          "showarrow": false,
          "text": "[H] Geranylgeranyl<br>pyrophosphate synthase",
          "x": 2093.7,
          "xanchor": "left",
          "y": 10.28
         },
         {
          "font": {
           "color": "black",
           "size": 12
          },
          "showarrow": false,
          "text": "[T] Phosphate<br>starvation-inducible<br>protein PhoH, predicted<br>ATPase",
          "x": 5587.5,
          "xanchor": "right",
          "y": 11.44
         },
         {
          "font": {
           "color": "black",
           "size": 12
          },
          "showarrow": false,
          "text": "[R] Predicted<br>metal-dependent hydrolase",
          "x": 7402.7,
          "xanchor": "center",
          "y": 11.28
         },
         {
          "font": {
           "color": "black",
           "size": 12
          },
          "showarrow": false,
          "text": "[M] Diacylglycerol<br>kinase",
          "x": 8984.9,
          "xanchor": "center",
          "y": 11.28
         },
         {
          "font": {
           "color": "black",
           "size": 12
          },
          "showarrow": false,
          "text": "[F] Cytidine deaminase",
          "x": 10412.600000000002,
          "xanchor": "center",
          "y": 11.2
         },
         {
          "font": {
           "color": "black",
           "size": 12
          },
          "showarrow": false,
          "text": "[R] GTPase",
          "x": 12175.300000000003,
          "xanchor": "center",
          "y": 11.2
         },
         {
          "font": {
           "color": "black",
           "size": 12
          },
          "showarrow": false,
          "text": "[L] Recombinational DNA<br>repair protein (RecF<br>pathway)",
          "x": 14143.500000000004,
          "xanchor": "center",
          "y": 11.36
         },
         {
          "font": {
           "color": "black",
           "size": 12
          },
          "showarrow": false,
          "text": "[J] Methionyl-tRNA<br>formyltransferase",
          "x": 470,
          "xanchor": "right",
          "y": 12.28
         },
         {
          "font": {
           "color": "black",
           "size": 12
          },
          "showarrow": false,
          "text": "[R] Predicted<br>phosphatase homologous to<br>the C-terminal",
          "x": 2336.2,
          "xanchor": "left",
          "y": 12.36
         },
         {
          "font": {
           "color": "black",
           "size": 12
          },
          "showarrow": false,
          "text": "[R] Predicted<br>oxidoreductase related to<br>nitroreductase",
          "x": 1463.5,
          "xanchor": "right",
          "y": 13.36
         },
         {
          "font": {
           "color": "black",
           "size": 12
          },
          "showarrow": false,
          "text": "",
          "x": 2877.7,
          "xanchor": "center",
          "y": 13.2
         },
         {
          "font": {
           "color": "black",
           "size": 12
          },
          "showarrow": false,
          "text": "-",
          "x": 7126.5,
          "xanchor": "left",
          "y": 1
         },
         {
          "font": {
           "color": "black",
           "size": 12
          },
          "showarrow": false,
          "text": "-",
          "x": 8370,
          "xanchor": "left",
          "y": 1
         },
         {
          "font": {
           "color": "black",
           "size": 12
          },
          "showarrow": false,
          "text": "-",
          "x": 10267.5,
          "xanchor": "left",
          "y": 1
         },
         {
          "font": {
           "color": "black",
           "size": 12
          },
          "showarrow": false,
          "text": "+",
          "x": 1800.5,
          "xanchor": "left",
          "y": 2
         },
         {
          "font": {
           "color": "black",
           "size": 12
          },
          "showarrow": false,
          "text": "+",
          "x": 2605,
          "xanchor": "left",
          "y": 2
         },
         {
          "font": {
           "color": "black",
           "size": 12
          },
          "showarrow": false,
          "text": "+",
          "x": 3246.5,
          "xanchor": "left",
          "y": 2
         },
         {
          "font": {
           "color": "black",
           "size": 12
          },
          "showarrow": false,
          "text": "+",
          "x": 6023.5,
          "xanchor": "left",
          "y": 3
         },
         {
          "font": {
           "color": "black",
           "size": 12
          },
          "showarrow": false,
          "text": "+",
          "x": 7123,
          "xanchor": "left",
          "y": 3
         },
         {
          "font": {
           "color": "black",
           "size": 12
          },
          "showarrow": false,
          "text": "+",
          "x": 1130.5,
          "xanchor": "left",
          "y": 4
         },
         {
          "font": {
           "color": "black",
           "size": 12
          },
          "showarrow": false,
          "text": "+",
          "x": 1845.5,
          "xanchor": "left",
          "y": 4
         },
         {
          "font": {
           "color": "black",
           "size": 12
          },
          "showarrow": false,
          "text": "+",
          "x": 665,
          "xanchor": "left",
          "y": 5
         },
         {
          "font": {
           "color": "black",
           "size": 12
          },
          "showarrow": false,
          "text": "+",
          "x": 1381,
          "xanchor": "left",
          "y": 5
         },
         {
          "font": {
           "color": "black",
           "size": 12
          },
          "showarrow": false,
          "text": "+",
          "x": 2202,
          "xanchor": "left",
          "y": 5
         },
         {
          "font": {
           "color": "black",
           "size": 12
          },
          "showarrow": false,
          "text": "-",
          "x": 2514.5,
          "xanchor": "left",
          "y": 6
         },
         {
          "font": {
           "color": "black",
           "size": 12
          },
          "showarrow": false,
          "text": "-",
          "x": 4293,
          "xanchor": "left",
          "y": 6
         },
         {
          "font": {
           "color": "black",
           "size": 12
          },
          "showarrow": false,
          "text": "-",
          "x": 5910.5,
          "xanchor": "left",
          "y": 6
         },
         {
          "font": {
           "color": "black",
           "size": 12
          },
          "showarrow": false,
          "text": "-",
          "x": 6798,
          "xanchor": "left",
          "y": 6
         },
         {
          "font": {
           "color": "black",
           "size": 12
          },
          "showarrow": false,
          "text": "-",
          "x": 7556,
          "xanchor": "left",
          "y": 6
         },
         {
          "font": {
           "color": "black",
           "size": 12
          },
          "showarrow": false,
          "text": "-",
          "x": 8053,
          "xanchor": "left",
          "y": 6
         },
         {
          "font": {
           "color": "black",
           "size": 12
          },
          "showarrow": false,
          "text": "-",
          "x": 8596.5,
          "xanchor": "left",
          "y": 6
         },
         {
          "font": {
           "color": "black",
           "size": 12
          },
          "showarrow": false,
          "text": "-",
          "x": 9755,
          "xanchor": "left",
          "y": 6
         },
         {
          "font": {
           "color": "black",
           "size": 12
          },
          "showarrow": false,
          "text": "+",
          "x": 1544.5,
          "xanchor": "left",
          "y": 7
         },
         {
          "font": {
           "color": "black",
           "size": 12
          },
          "showarrow": false,
          "text": "+",
          "x": 2055.5,
          "xanchor": "left",
          "y": 7
         },
         {
          "font": {
           "color": "black",
           "size": 12
          },
          "showarrow": false,
          "text": "-",
          "x": 132.5,
          "xanchor": "left",
          "y": 8
         },
         {
          "font": {
           "color": "black",
           "size": 12
          },
          "showarrow": false,
          "text": "-",
          "x": 745,
          "xanchor": "left",
          "y": 8
         },
         {
          "font": {
           "color": "black",
           "size": 12
          },
          "showarrow": false,
          "text": "-",
          "x": 1568,
          "xanchor": "left",
          "y": 8
         },
         {
          "font": {
           "color": "black",
           "size": 12
          },
          "showarrow": false,
          "text": "-",
          "x": 2155.5,
          "xanchor": "left",
          "y": 8
         },
         {
          "font": {
           "color": "black",
           "size": 12
          },
          "showarrow": false,
          "text": "-",
          "x": 343.5,
          "xanchor": "left",
          "y": 9
         },
         {
          "font": {
           "color": "black",
           "size": 12
          },
          "showarrow": false,
          "text": "-",
          "x": 962,
          "xanchor": "left",
          "y": 9
         },
         {
          "font": {
           "color": "black",
           "size": 12
          },
          "showarrow": false,
          "text": "-",
          "x": 249,
          "xanchor": "left",
          "y": 10
         },
         {
          "font": {
           "color": "black",
           "size": 12
          },
          "showarrow": false,
          "text": "-",
          "x": 983.5,
          "xanchor": "left",
          "y": 10
         },
         {
          "font": {
           "color": "black",
           "size": 12
          },
          "showarrow": false,
          "text": "+",
          "x": 5587.5,
          "xanchor": "left",
          "y": 11
         },
         {
          "font": {
           "color": "black",
           "size": 12
          },
          "showarrow": false,
          "text": "+",
          "x": 6292.5,
          "xanchor": "left",
          "y": 11
         },
         {
          "font": {
           "color": "black",
           "size": 12
          },
          "showarrow": false,
          "text": "+",
          "x": 6764.5,
          "xanchor": "left",
          "y": 11
         },
         {
          "font": {
           "color": "black",
           "size": 12
          },
          "showarrow": false,
          "text": "+",
          "x": 7082,
          "xanchor": "left",
          "y": 11
         },
         {
          "font": {
           "color": "black",
           "size": 12
          },
          "showarrow": false,
          "text": "+",
          "x": 7734.5,
          "xanchor": "left",
          "y": 11
         },
         {
          "font": {
           "color": "black",
           "size": 12
          },
          "showarrow": false,
          "text": "+",
          "x": 8592.5,
          "xanchor": "left",
          "y": 11
         },
         {
          "font": {
           "color": "black",
           "size": 12
          },
          "showarrow": false,
          "text": "+",
          "x": 470,
          "xanchor": "left",
          "y": 12
         },
         {
          "font": {
           "color": "black",
           "size": 12
          },
          "showarrow": false,
          "text": "+",
          "x": 1226,
          "xanchor": "left",
          "y": 12
         },
         {
          "font": {
           "color": "black",
           "size": 12
          },
          "showarrow": false,
          "text": "-",
          "x": 1463.5,
          "xanchor": "left",
          "y": 13
         },
         {
          "font": {
           "color": "black",
           "size": 12
          },
          "showarrow": false,
          "text": "-",
          "x": 1767.5,
          "xanchor": "left",
          "y": 13
         }
        ],
        "height": 1500,
        "shapes": [
         {
          "line": {
           "color": "green",
           "width": 5
          },
          "type": "line",
          "x0": 6740,
          "x1": 7513,
          "y0": 1,
          "y1": 1
         },
         {
          "line": {
           "color": "green",
           "width": 5
          },
          "type": "line",
          "x0": 7520,
          "x1": 9220,
          "y0": 1,
          "y1": 1
         },
         {
          "line": {
           "color": "green",
           "width": 5
          },
          "type": "line",
          "x0": 9533,
          "x1": 11002,
          "y0": 1,
          "y1": 1
         },
         {
          "line": {
           "color": "blue",
           "width": 5
          },
          "type": "line",
          "x0": 1429,
          "x1": 2172,
          "y0": 2,
          "y1": 2
         },
         {
          "line": {
           "color": "blue",
           "width": 5
          },
          "type": "line",
          "x0": 2241,
          "x1": 2969,
          "y0": 2,
          "y1": 2
         },
         {
          "line": {
           "color": "blue",
           "width": 5
          },
          "type": "line",
          "x0": 3058,
          "x1": 3435,
          "y0": 2,
          "y1": 2
         },
         {
          "line": {
           "color": "purple",
           "width": 5
          },
          "type": "line",
          "x0": 5586,
          "x1": 6461,
          "y0": 3,
          "y1": 3
         },
         {
          "line": {
           "color": "purple",
           "width": 5
          },
          "type": "line",
          "x0": 6546,
          "x1": 7700,
          "y0": 3,
          "y1": 3
         },
         {
          "line": {
           "color": "orange",
           "width": 5
          },
          "type": "line",
          "x0": 765,
          "x1": 1496,
          "y0": 4,
          "y1": 4
         },
         {
          "line": {
           "color": "orange",
           "width": 5
          },
          "type": "line",
          "x0": 1510,
          "x1": 2181,
          "y0": 4,
          "y1": 4
         },
         {
          "line": {
           "color": "pink",
           "width": 5
          },
          "type": "line",
          "x0": 271,
          "x1": 1059,
          "y0": 5,
          "y1": 5
         },
         {
          "line": {
           "color": "pink",
           "width": 5
          },
          "type": "line",
          "x0": 1062,
          "x1": 1700,
          "y0": 5,
          "y1": 5
         },
         {
          "line": {
           "color": "pink",
           "width": 5
          },
          "type": "line",
          "x0": 1745,
          "x1": 2659,
          "y0": 5,
          "y1": 5
         },
         {
          "line": {
           "color": "gray",
           "width": 5
          },
          "type": "line",
          "x0": 1885,
          "x1": 3144,
          "y0": 6,
          "y1": 6
         },
         {
          "line": {
           "color": "gray",
           "width": 5
          },
          "type": "line",
          "x0": 3281,
          "x1": 5305,
          "y0": 6,
          "y1": 6
         },
         {
          "line": {
           "color": "gray",
           "width": 5
          },
          "type": "line",
          "x0": 5350,
          "x1": 6471,
          "y0": 6,
          "y1": 6
         },
         {
          "line": {
           "color": "gray",
           "width": 5
          },
          "type": "line",
          "x0": 6527,
          "x1": 7069,
          "y0": 6,
          "y1": 6
         },
         {
          "line": {
           "color": "gray",
           "width": 5
          },
          "type": "line",
          "x0": 7123,
          "x1": 7989,
          "y0": 6,
          "y1": 6
         },
         {
          "line": {
           "color": "gray",
           "width": 5
          },
          "type": "line",
          "x0": 7986,
          "x1": 8120,
          "y0": 6,
          "y1": 6
         },
         {
          "line": {
           "color": "gray",
           "width": 5
          },
          "type": "line",
          "x0": 8063,
          "x1": 9130,
          "y0": 6,
          "y1": 6
         },
         {
          "line": {
           "color": "gray",
           "width": 5
          },
          "type": "line",
          "x0": 9247,
          "x1": 10263,
          "y0": 6,
          "y1": 6
         },
         {
          "line": {
           "color": "red",
           "width": 5
          },
          "type": "line",
          "x0": 1269,
          "x1": 1820,
          "y0": 7,
          "y1": 7
         },
         {
          "line": {
           "color": "red",
           "width": 5
          },
          "type": "line",
          "x0": 1813,
          "x1": 2298,
          "y0": 7,
          "y1": 7
         },
         {
          "line": {
           "color": "green",
           "width": 5
          },
          "type": "line",
          "x0": 16,
          "x1": 249,
          "y0": 8,
          "y1": 8
         },
         {
          "line": {
           "color": "green",
           "width": 5
          },
          "type": "line",
          "x0": 378,
          "x1": 1112,
          "y0": 8,
          "y1": 8
         },
         {
          "line": {
           "color": "green",
           "width": 5
          },
          "type": "line",
          "x0": 1105,
          "x1": 2031,
          "y0": 8,
          "y1": 8
         },
         {
          "line": {
           "color": "green",
           "width": 5
          },
          "type": "line",
          "x0": 2024,
          "x1": 2287,
          "y0": 8,
          "y1": 8
         },
         {
          "line": {
           "color": "blue",
           "width": 5
          },
          "type": "line",
          "x0": 14,
          "x1": 673,
          "y0": 9,
          "y1": 9
         },
         {
          "line": {
           "color": "blue",
           "width": 5
          },
          "type": "line",
          "x0": 670,
          "x1": 1254,
          "y0": 9,
          "y1": 9
         },
         {
          "line": {
           "color": "purple",
           "width": 5
          },
          "type": "line",
          "x0": 26,
          "x1": 472,
          "y0": 10,
          "y1": 10
         },
         {
          "line": {
           "color": "purple",
           "width": 5
          },
          "type": "line",
          "x0": 477,
          "x1": 1490,
          "y0": 10,
          "y1": 10
         },
         {
          "line": {
           "color": "orange",
           "width": 5
          },
          "type": "line",
          "x0": 5114,
          "x1": 6061,
          "y0": 11,
          "y1": 11
         },
         {
          "line": {
           "color": "orange",
           "width": 5
          },
          "type": "line",
          "x0": 6062,
          "x1": 6523,
          "y0": 11,
          "y1": 11
         },
         {
          "line": {
           "color": "orange",
           "width": 5
          },
          "type": "line",
          "x0": 6663,
          "x1": 6866,
          "y0": 11,
          "y1": 11
         },
         {
          "line": {
           "color": "orange",
           "width": 5
          },
          "type": "line",
          "x0": 6880,
          "x1": 7284,
          "y0": 11,
          "y1": 11
         },
         {
          "line": {
           "color": "orange",
           "width": 5
          },
          "type": "line",
          "x0": 7285,
          "x1": 8184,
          "y0": 11,
          "y1": 11
         },
         {
          "line": {
           "color": "orange",
           "width": 5
          },
          "type": "line",
          "x0": 8218,
          "x1": 8967,
          "y0": 11,
          "y1": 11
         },
         {
          "line": {
           "color": "pink",
           "width": 5
          },
          "type": "line",
          "x0": 7,
          "x1": 933,
          "y0": 12,
          "y1": 12
         },
         {
          "line": {
           "color": "pink",
           "width": 5
          },
          "type": "line",
          "x0": 967,
          "x1": 1485,
          "y0": 12,
          "y1": 12
         },
         {
          "line": {
           "color": "gray",
           "width": 5
          },
          "type": "line",
          "x0": 1221,
          "x1": 1706,
          "y0": 13,
          "y1": 13
         },
         {
          "line": {
           "color": "gray",
           "width": 5
          },
          "type": "line",
          "x0": 1690,
          "x1": 1845,
          "y0": 13,
          "y1": 13
         }
        ],
        "template": {
         "data": {
          "bar": [
           {
            "error_x": {
             "color": "#2a3f5f"
            },
            "error_y": {
             "color": "#2a3f5f"
            },
            "marker": {
             "line": {
              "color": "#E5ECF6",
              "width": 0.5
             },
             "pattern": {
              "fillmode": "overlay",
              "size": 10,
              "solidity": 0.2
             }
            },
            "type": "bar"
           }
          ],
          "barpolar": [
           {
            "marker": {
             "line": {
              "color": "#E5ECF6",
              "width": 0.5
             },
             "pattern": {
              "fillmode": "overlay",
              "size": 10,
              "solidity": 0.2
             }
            },
            "type": "barpolar"
           }
          ],
          "carpet": [
           {
            "aaxis": {
             "endlinecolor": "#2a3f5f",
             "gridcolor": "white",
             "linecolor": "white",
             "minorgridcolor": "white",
             "startlinecolor": "#2a3f5f"
            },
            "baxis": {
             "endlinecolor": "#2a3f5f",
             "gridcolor": "white",
             "linecolor": "white",
             "minorgridcolor": "white",
             "startlinecolor": "#2a3f5f"
            },
            "type": "carpet"
           }
          ],
          "choropleth": [
           {
            "colorbar": {
             "outlinewidth": 0,
             "ticks": ""
            },
            "type": "choropleth"
           }
          ],
          "contour": [
           {
            "colorbar": {
             "outlinewidth": 0,
             "ticks": ""
            },
            "colorscale": [
             [
              0,
              "#0d0887"
             ],
             [
              0.1111111111111111,
              "#46039f"
             ],
             [
              0.2222222222222222,
              "#7201a8"
             ],
             [
              0.3333333333333333,
              "#9c179e"
             ],
             [
              0.4444444444444444,
              "#bd3786"
             ],
             [
              0.5555555555555556,
              "#d8576b"
             ],
             [
              0.6666666666666666,
              "#ed7953"
             ],
             [
              0.7777777777777778,
              "#fb9f3a"
             ],
             [
              0.8888888888888888,
              "#fdca26"
             ],
             [
              1,
              "#f0f921"
             ]
            ],
            "type": "contour"
           }
          ],
          "contourcarpet": [
           {
            "colorbar": {
             "outlinewidth": 0,
             "ticks": ""
            },
            "type": "contourcarpet"
           }
          ],
          "heatmap": [
           {
            "colorbar": {
             "outlinewidth": 0,
             "ticks": ""
            },
            "colorscale": [
             [
              0,
              "#0d0887"
             ],
             [
              0.1111111111111111,
              "#46039f"
             ],
             [
              0.2222222222222222,
              "#7201a8"
             ],
             [
              0.3333333333333333,
              "#9c179e"
             ],
             [
              0.4444444444444444,
              "#bd3786"
             ],
             [
              0.5555555555555556,
              "#d8576b"
             ],
             [
              0.6666666666666666,
              "#ed7953"
             ],
             [
              0.7777777777777778,
              "#fb9f3a"
             ],
             [
              0.8888888888888888,
              "#fdca26"
             ],
             [
              1,
              "#f0f921"
             ]
            ],
            "type": "heatmap"
           }
          ],
          "heatmapgl": [
           {
            "colorbar": {
             "outlinewidth": 0,
             "ticks": ""
            },
            "colorscale": [
             [
              0,
              "#0d0887"
             ],
             [
              0.1111111111111111,
              "#46039f"
             ],
             [
              0.2222222222222222,
              "#7201a8"
             ],
             [
              0.3333333333333333,
              "#9c179e"
             ],
             [
              0.4444444444444444,
              "#bd3786"
             ],
             [
              0.5555555555555556,
              "#d8576b"
             ],
             [
              0.6666666666666666,
              "#ed7953"
             ],
             [
              0.7777777777777778,
              "#fb9f3a"
             ],
             [
              0.8888888888888888,
              "#fdca26"
             ],
             [
              1,
              "#f0f921"
             ]
            ],
            "type": "heatmapgl"
           }
          ],
          "histogram": [
           {
            "marker": {
             "pattern": {
              "fillmode": "overlay",
              "size": 10,
              "solidity": 0.2
             }
            },
            "type": "histogram"
           }
          ],
          "histogram2d": [
           {
            "colorbar": {
             "outlinewidth": 0,
             "ticks": ""
            },
            "colorscale": [
             [
              0,
              "#0d0887"
             ],
             [
              0.1111111111111111,
              "#46039f"
             ],
             [
              0.2222222222222222,
              "#7201a8"
             ],
             [
              0.3333333333333333,
              "#9c179e"
             ],
             [
              0.4444444444444444,
              "#bd3786"
             ],
             [
              0.5555555555555556,
              "#d8576b"
             ],
             [
              0.6666666666666666,
              "#ed7953"
             ],
             [
              0.7777777777777778,
              "#fb9f3a"
             ],
             [
              0.8888888888888888,
              "#fdca26"
             ],
             [
              1,
              "#f0f921"
             ]
            ],
            "type": "histogram2d"
           }
          ],
          "histogram2dcontour": [
           {
            "colorbar": {
             "outlinewidth": 0,
             "ticks": ""
            },
            "colorscale": [
             [
              0,
              "#0d0887"
             ],
             [
              0.1111111111111111,
              "#46039f"
             ],
             [
              0.2222222222222222,
              "#7201a8"
             ],
             [
              0.3333333333333333,
              "#9c179e"
             ],
             [
              0.4444444444444444,
              "#bd3786"
             ],
             [
              0.5555555555555556,
              "#d8576b"
             ],
             [
              0.6666666666666666,
              "#ed7953"
             ],
             [
              0.7777777777777778,
              "#fb9f3a"
             ],
             [
              0.8888888888888888,
              "#fdca26"
             ],
             [
              1,
              "#f0f921"
             ]
            ],
            "type": "histogram2dcontour"
           }
          ],
          "mesh3d": [
           {
            "colorbar": {
             "outlinewidth": 0,
             "ticks": ""
            },
            "type": "mesh3d"
           }
          ],
          "parcoords": [
           {
            "line": {
             "colorbar": {
              "outlinewidth": 0,
              "ticks": ""
             }
            },
            "type": "parcoords"
           }
          ],
          "pie": [
           {
            "automargin": true,
            "type": "pie"
           }
          ],
          "scatter": [
           {
            "fillpattern": {
             "fillmode": "overlay",
             "size": 10,
             "solidity": 0.2
            },
            "type": "scatter"
           }
          ],
          "scatter3d": [
           {
            "line": {
             "colorbar": {
              "outlinewidth": 0,
              "ticks": ""
             }
            },
            "marker": {
             "colorbar": {
              "outlinewidth": 0,
              "ticks": ""
             }
            },
            "type": "scatter3d"
           }
          ],
          "scattercarpet": [
           {
            "marker": {
             "colorbar": {
              "outlinewidth": 0,
              "ticks": ""
             }
            },
            "type": "scattercarpet"
           }
          ],
          "scattergeo": [
           {
            "marker": {
             "colorbar": {
              "outlinewidth": 0,
              "ticks": ""
             }
            },
            "type": "scattergeo"
           }
          ],
          "scattergl": [
           {
            "marker": {
             "colorbar": {
              "outlinewidth": 0,
              "ticks": ""
             }
            },
            "type": "scattergl"
           }
          ],
          "scattermapbox": [
           {
            "marker": {
             "colorbar": {
              "outlinewidth": 0,
              "ticks": ""
             }
            },
            "type": "scattermapbox"
           }
          ],
          "scatterpolar": [
           {
            "marker": {
             "colorbar": {
              "outlinewidth": 0,
              "ticks": ""
             }
            },
            "type": "scatterpolar"
           }
          ],
          "scatterpolargl": [
           {
            "marker": {
             "colorbar": {
              "outlinewidth": 0,
              "ticks": ""
             }
            },
            "type": "scatterpolargl"
           }
          ],
          "scatterternary": [
           {
            "marker": {
             "colorbar": {
              "outlinewidth": 0,
              "ticks": ""
             }
            },
            "type": "scatterternary"
           }
          ],
          "surface": [
           {
            "colorbar": {
             "outlinewidth": 0,
             "ticks": ""
            },
            "colorscale": [
             [
              0,
              "#0d0887"
             ],
             [
              0.1111111111111111,
              "#46039f"
             ],
             [
              0.2222222222222222,
              "#7201a8"
             ],
             [
              0.3333333333333333,
              "#9c179e"
             ],
             [
              0.4444444444444444,
              "#bd3786"
             ],
             [
              0.5555555555555556,
              "#d8576b"
             ],
             [
              0.6666666666666666,
              "#ed7953"
             ],
             [
              0.7777777777777778,
              "#fb9f3a"
             ],
             [
              0.8888888888888888,
              "#fdca26"
             ],
             [
              1,
              "#f0f921"
             ]
            ],
            "type": "surface"
           }
          ],
          "table": [
           {
            "cells": {
             "fill": {
              "color": "#EBF0F8"
             },
             "line": {
              "color": "white"
             }
            },
            "header": {
             "fill": {
              "color": "#C8D4E3"
             },
             "line": {
              "color": "white"
             }
            },
            "type": "table"
           }
          ]
         },
         "layout": {
          "annotationdefaults": {
           "arrowcolor": "#2a3f5f",
           "arrowhead": 0,
           "arrowwidth": 1
          },
          "autotypenumbers": "strict",
          "coloraxis": {
           "colorbar": {
            "outlinewidth": 0,
            "ticks": ""
           }
          },
          "colorscale": {
           "diverging": [
            [
             0,
             "#8e0152"
            ],
            [
             0.1,
             "#c51b7d"
            ],
            [
             0.2,
             "#de77ae"
            ],
            [
             0.3,
             "#f1b6da"
            ],
            [
             0.4,
             "#fde0ef"
            ],
            [
             0.5,
             "#f7f7f7"
            ],
            [
             0.6,
             "#e6f5d0"
            ],
            [
             0.7,
             "#b8e186"
            ],
            [
             0.8,
             "#7fbc41"
            ],
            [
             0.9,
             "#4d9221"
            ],
            [
             1,
             "#276419"
            ]
           ],
           "sequential": [
            [
             0,
             "#0d0887"
            ],
            [
             0.1111111111111111,
             "#46039f"
            ],
            [
             0.2222222222222222,
             "#7201a8"
            ],
            [
             0.3333333333333333,
             "#9c179e"
            ],
            [
             0.4444444444444444,
             "#bd3786"
            ],
            [
             0.5555555555555556,
             "#d8576b"
            ],
            [
             0.6666666666666666,
             "#ed7953"
            ],
            [
             0.7777777777777778,
             "#fb9f3a"
            ],
            [
             0.8888888888888888,
             "#fdca26"
            ],
            [
             1,
             "#f0f921"
            ]
           ],
           "sequentialminus": [
            [
             0,
             "#0d0887"
            ],
            [
             0.1111111111111111,
             "#46039f"
            ],
            [
             0.2222222222222222,
             "#7201a8"
            ],
            [
             0.3333333333333333,
             "#9c179e"
            ],
            [
             0.4444444444444444,
             "#bd3786"
            ],
            [
             0.5555555555555556,
             "#d8576b"
            ],
            [
             0.6666666666666666,
             "#ed7953"
            ],
            [
             0.7777777777777778,
             "#fb9f3a"
            ],
            [
             0.8888888888888888,
             "#fdca26"
            ],
            [
             1,
             "#f0f921"
            ]
           ]
          },
          "colorway": [
           "#636efa",
           "#EF553B",
           "#00cc96",
           "#ab63fa",
           "#FFA15A",
           "#19d3f3",
           "#FF6692",
           "#B6E880",
           "#FF97FF",
           "#FECB52"
          ],
          "font": {
           "color": "#2a3f5f"
          },
          "geo": {
           "bgcolor": "white",
           "lakecolor": "white",
           "landcolor": "#E5ECF6",
           "showlakes": true,
           "showland": true,
           "subunitcolor": "white"
          },
          "hoverlabel": {
           "align": "left"
          },
          "hovermode": "closest",
          "mapbox": {
           "style": "light"
          },
          "paper_bgcolor": "white",
          "plot_bgcolor": "#E5ECF6",
          "polar": {
           "angularaxis": {
            "gridcolor": "white",
            "linecolor": "white",
            "ticks": ""
           },
           "bgcolor": "#E5ECF6",
           "radialaxis": {
            "gridcolor": "white",
            "linecolor": "white",
            "ticks": ""
           }
          },
          "scene": {
           "xaxis": {
            "backgroundcolor": "#E5ECF6",
            "gridcolor": "white",
            "gridwidth": 2,
            "linecolor": "white",
            "showbackground": true,
            "ticks": "",
            "zerolinecolor": "white"
           },
           "yaxis": {
            "backgroundcolor": "#E5ECF6",
            "gridcolor": "white",
            "gridwidth": 2,
            "linecolor": "white",
            "showbackground": true,
            "ticks": "",
            "zerolinecolor": "white"
           },
           "zaxis": {
            "backgroundcolor": "#E5ECF6",
            "gridcolor": "white",
            "gridwidth": 2,
            "linecolor": "white",
            "showbackground": true,
            "ticks": "",
            "zerolinecolor": "white"
           }
          },
          "shapedefaults": {
           "line": {
            "color": "#2a3f5f"
           }
          },
          "ternary": {
           "aaxis": {
            "gridcolor": "white",
            "linecolor": "white",
            "ticks": ""
           },
           "baxis": {
            "gridcolor": "white",
            "linecolor": "white",
            "ticks": ""
           },
           "bgcolor": "#E5ECF6",
           "caxis": {
            "gridcolor": "white",
            "linecolor": "white",
            "ticks": ""
           }
          },
          "title": {
           "x": 0.05
          },
          "xaxis": {
           "automargin": true,
           "gridcolor": "white",
           "linecolor": "white",
           "ticks": "",
           "title": {
            "standoff": 15
           },
           "zerolinecolor": "white",
           "zerolinewidth": 2
          },
          "yaxis": {
           "automargin": true,
           "gridcolor": "white",
           "linecolor": "white",
           "ticks": "",
           "title": {
            "standoff": 15
           },
           "zerolinecolor": "white",
           "zerolinewidth": 2
          }
         }
        },
        "width": 1275,
        "xaxis": {
         "range": [
          0,
          11102
         ],
         "title": {
          "text": "Position on Genome"
         }
        },
        "yaxis": {
         "dtick": 1,
         "range": [
          0,
          14
         ],
         "tickmode": "linear",
         "title": {
          "text": "Operons"
         }
        }
       }
      }
     },
     "metadata": {},
     "output_type": "display_data"
    },
    {
     "data": {
      "application/vnd.plotly.v1+json": {
       "config": {
        "plotlyServerURL": "https://plot.ly"
       },
       "data": [],
       "layout": {
        "annotations": [
         {
          "font": {
           "color": "black",
           "size": 12
          },
          "showarrow": false,
          "text": "[M] Glutamate racemase",
          "x": 504.5,
          "xanchor": "right",
          "y": 1.2
         },
         {
          "font": {
           "color": "black",
           "size": 12
          },
          "showarrow": false,
          "text": "[F] Xanthosine<br>triphosphate<br>pyrophosphatase",
          "x": 1910.2,
          "xanchor": "center",
          "y": 1.3599999999999999
         },
         {
          "font": {
           "color": "black",
           "size": 12
          },
          "showarrow": false,
          "text": "[G]<br>6-phosphogluconolactonase/Glucosamine-6-phosphate<br>isomerase/deaminase",
          "x": 255,
          "xanchor": "right",
          "y": 2.36
         },
         {
          "font": {
           "color": "black",
           "size": 12
          },
          "showarrow": false,
          "text": "[G] Glucokinase",
          "x": 1688.7,
          "xanchor": "center",
          "y": 2.2
         },
         {
          "font": {
           "color": "black",
           "size": 12
          },
          "showarrow": false,
          "text": "[K] Transcriptional<br>regulators",
          "x": 2680.7,
          "xanchor": "left",
          "y": 2.2800000000000002
         },
         {
          "font": {
           "color": "black",
           "size": 12
          },
          "showarrow": false,
          "text": "[P] Uncharacterized<br>protein involved in<br>response to",
          "x": 4752.5,
          "xanchor": "right",
          "y": 3.36
         },
         {
          "font": {
           "color": "black",
           "size": 12
          },
          "showarrow": false,
          "text": "NA",
          "x": 5392,
          "xanchor": "center",
          "y": 2.8
         },
         {
          "font": {
           "color": "black",
           "size": 12
          },
          "showarrow": false,
          "text": "[P] ABC-type taurine<br>transport system, ATPase<br>component",
          "x": 5832,
          "xanchor": "center",
          "y": 3.36
         },
         {
          "font": {
           "color": "black",
           "size": 12
          },
          "showarrow": false,
          "text": "[P] ABC-type<br>nitrate/sulfonate/bicarbonate<br>transport system,<br>permease component",
          "x": 6576.5,
          "xanchor": "left",
          "y": 3.44
         },
         {
          "font": {
           "color": "black",
           "size": 12
          },
          "showarrow": false,
          "text": "[T] Predicted<br>protein-tyrosine<br>phosphatase",
          "x": 289,
          "xanchor": "right",
          "y": 4.36
         },
         {
          "font": {
           "color": "black",
           "size": 12
          },
          "showarrow": false,
          "text": "NA",
          "x": 756,
          "xanchor": "left",
          "y": 3.8
         },
         {
          "font": {
           "color": "black",
           "size": 12
          },
          "showarrow": false,
          "text": "[J] tRNA<br>delta(2)-isopentenylpyrophosphate<br>transferase",
          "x": 732.5,
          "xanchor": "right",
          "y": 5.36
         },
         {
          "font": {
           "color": "black",
           "size": 12
          },
          "showarrow": false,
          "text": "[S] Uncharacterized<br>conserved protein",
          "x": 1742.7,
          "xanchor": "left",
          "y": 5.28
         },
         {
          "font": {
           "color": "black",
           "size": 12
          },
          "showarrow": false,
          "text": "[L] Single-stranded<br>DNA-specific exonuclease",
          "x": 965.5,
          "xanchor": "right",
          "y": 6.28
         },
         {
          "font": {
           "color": "black",
           "size": 12
          },
          "showarrow": false,
          "text": "[F] Adenine/guanine<br>phosphoribosyltransferases<br>and related PRPP-binding<br>proteins",
          "x": 2152,
          "xanchor": "left",
          "y": 6.44
         },
         {
          "font": {
           "color": "black",
           "size": 12
          },
          "showarrow": false,
          "text": "[TK] Guanosine<br>polyphosphate<br>pyrophosphohydrolases/synthetases",
          "x": 3839.5,
          "xanchor": "right",
          "y": 7.36
         },
         {
          "font": {
           "color": "black",
           "size": 12
          },
          "showarrow": false,
          "text": "[J] D-Tyr-tRNAtyr<br>deacylase",
          "x": 5176,
          "xanchor": "center",
          "y": 7.28
         },
         {
          "font": {
           "color": "black",
           "size": 12
          },
          "showarrow": false,
          "text": "[M]<br>N-acetylmuramoyl-L-alanine<br>amidase",
          "x": 6576.2,
          "xanchor": "center",
          "y": 7.36
         },
         {
          "font": {
           "color": "black",
           "size": 12
          },
          "showarrow": false,
          "text": "[J] tRNA<br>delta(2)-isopentenylpyrophosphate<br>transferase",
          "x": 294.5,
          "xanchor": "right",
          "y": 8.36
         },
         {
          "font": {
           "color": "black",
           "size": 12
          },
          "showarrow": false,
          "text": "[FJ] Cytosine/adenosine<br>deaminases",
          "x": 1665.2,
          "xanchor": "center",
          "y": 8.28
         },
         {
          "font": {
           "color": "black",
           "size": 12
          },
          "showarrow": false,
          "text": "[P] Uncharacterized<br>protein involved in<br>tellurite resistance",
          "x": 6131.5,
          "xanchor": "right",
          "y": 9.36
         },
         {
          "font": {
           "color": "black",
           "size": 12
          },
          "showarrow": false,
          "text": "[R]<br>5-bromo-4-chloroindolyl<br>phosphate hydrolysis<br>protein",
          "x": 7017,
          "xanchor": "center",
          "y": 9.44
         },
         {
          "font": {
           "color": "black",
           "size": 12
          },
          "showarrow": false,
          "text": "NA",
          "x": 4021.5,
          "xanchor": "right",
          "y": 9.8
         },
         {
          "font": {
           "color": "black",
           "size": 12
          },
          "showarrow": false,
          "text": "[T] Serine/threonine<br>protein phosphatase",
          "x": 4481,
          "xanchor": "left",
          "y": 10.28
         },
         {
          "font": {
           "color": "black",
           "size": 12
          },
          "showarrow": false,
          "text": "[I] Lysophospholipase",
          "x": 5894,
          "xanchor": "right",
          "y": 11.2
         },
         {
          "font": {
           "color": "black",
           "size": 12
          },
          "showarrow": false,
          "text": "[S] Uncharacterized<br>protein conserved in<br>bacteria",
          "x": 1250,
          "xanchor": "right",
          "y": 12.36
         },
         {
          "font": {
           "color": "black",
           "size": 12
          },
          "showarrow": false,
          "text": "[T]<br>Protein-tyrosine-phosphatase",
          "x": 2569.7,
          "xanchor": "center",
          "y": 12.28
         },
         {
          "font": {
           "color": "black",
           "size": 12
          },
          "showarrow": false,
          "text": "[J] Putative translation<br>factor (SUA5)",
          "x": 3327.7,
          "xanchor": "center",
          "y": 12.28
         },
         {
          "font": {
           "color": "black",
           "size": 12
          },
          "showarrow": false,
          "text": "[J] Methylase of<br>polypeptide chain release<br>factors",
          "x": 4317.7,
          "xanchor": "center",
          "y": 12.36
         },
         {
          "font": {
           "color": "black",
           "size": 12
          },
          "showarrow": false,
          "text": "[J] Protein chain<br>release factor A",
          "x": 5260.7,
          "xanchor": "center",
          "y": 12.28
         },
         {
          "font": {
           "color": "black",
           "size": 12
          },
          "showarrow": false,
          "text": "[F] Thymidine kinase",
          "x": 6098.2,
          "xanchor": "center",
          "y": 12.2
         },
         {
          "font": {
           "color": "black",
           "size": 12
          },
          "showarrow": false,
          "text": "[J] Ribosomal protein<br>L31",
          "x": 7440.9,
          "xanchor": "center",
          "y": 12.28
         },
         {
          "font": {
           "color": "black",
           "size": 12
          },
          "showarrow": false,
          "text": "[K] Transcription<br>termination factor",
          "x": 8829.6,
          "xanchor": "center",
          "y": 12.28
         },
         {
          "font": {
           "color": "black",
           "size": 12
          },
          "showarrow": false,
          "text": "NA",
          "x": 864,
          "xanchor": "right",
          "y": 12.8
         },
         {
          "font": {
           "color": "black",
           "size": 12
          },
          "showarrow": false,
          "text": "[EF] Carbamoylphosphate<br>synthase large subunit<br>(split gene",
          "x": 2902.5,
          "xanchor": "left",
          "y": 13.36
         },
         {
          "font": {
           "color": "black",
           "size": 12
          },
          "showarrow": false,
          "text": "NA",
          "x": 374.5,
          "xanchor": "right",
          "y": 13.8
         },
         {
          "font": {
           "color": "black",
           "size": 12
          },
          "showarrow": false,
          "text": "[P] Uncharacterized<br>Zn-ribbon-containing<br>protein involved in<br>phosphonate",
          "x": 802.5,
          "xanchor": "left",
          "y": 14.44
         },
         {
          "font": {
           "color": "black",
           "size": 12
          },
          "showarrow": false,
          "text": "[G] Phosphotransferase<br>system IIA components",
          "x": 510,
          "xanchor": "right",
          "y": 15.28
         },
         {
          "font": {
           "color": "black",
           "size": 12
          },
          "showarrow": false,
          "text": "[O] Conserved domain<br>frequently associated<br>with peptide",
          "x": 1603.7,
          "xanchor": "left",
          "y": 15.36
         },
         {
          "font": {
           "color": "black",
           "size": 12
          },
          "showarrow": false,
          "text": "+",
          "x": 504.5,
          "xanchor": "left",
          "y": 1
         },
         {
          "font": {
           "color": "black",
           "size": 12
          },
          "showarrow": false,
          "text": "+",
          "x": 1170.5,
          "xanchor": "left",
          "y": 1
         },
         {
          "font": {
           "color": "black",
           "size": 12
          },
          "showarrow": false,
          "text": "+",
          "x": 255,
          "xanchor": "left",
          "y": 2
         },
         {
          "font": {
           "color": "black",
           "size": 12
          },
          "showarrow": false,
          "text": "+",
          "x": 949,
          "xanchor": "left",
          "y": 2
         },
         {
          "font": {
           "color": "black",
           "size": 12
          },
          "showarrow": false,
          "text": "+",
          "x": 1941,
          "xanchor": "left",
          "y": 2
         },
         {
          "font": {
           "color": "black",
           "size": 12
          },
          "showarrow": false,
          "text": "-",
          "x": 4752.5,
          "xanchor": "left",
          "y": 3
         },
         {
          "font": {
           "color": "black",
           "size": 12
          },
          "showarrow": false,
          "text": "-",
          "x": 5392,
          "xanchor": "left",
          "y": 3
         },
         {
          "font": {
           "color": "black",
           "size": 12
          },
          "showarrow": false,
          "text": "-",
          "x": 5832,
          "xanchor": "left",
          "y": 3
         },
         {
          "font": {
           "color": "black",
           "size": 12
          },
          "showarrow": false,
          "text": "-",
          "x": 6576.5,
          "xanchor": "left",
          "y": 3
         },
         {
          "font": {
           "color": "black",
           "size": 12
          },
          "showarrow": false,
          "text": "+",
          "x": 289,
          "xanchor": "left",
          "y": 4
         },
         {
          "font": {
           "color": "black",
           "size": 12
          },
          "showarrow": false,
          "text": "+",
          "x": 756,
          "xanchor": "left",
          "y": 4
         },
         {
          "font": {
           "color": "black",
           "size": 12
          },
          "showarrow": false,
          "text": "+",
          "x": 732.5,
          "xanchor": "left",
          "y": 5
         },
         {
          "font": {
           "color": "black",
           "size": 12
          },
          "showarrow": false,
          "text": "+",
          "x": 1003,
          "xanchor": "left",
          "y": 5
         },
         {
          "font": {
           "color": "black",
           "size": 12
          },
          "showarrow": false,
          "text": "+",
          "x": 965.5,
          "xanchor": "left",
          "y": 6
         },
         {
          "font": {
           "color": "black",
           "size": 12
          },
          "showarrow": false,
          "text": "+",
          "x": 2152,
          "xanchor": "left",
          "y": 6
         },
         {
          "font": {
           "color": "black",
           "size": 12
          },
          "showarrow": false,
          "text": "+",
          "x": 3839.5,
          "xanchor": "left",
          "y": 7
         },
         {
          "font": {
           "color": "black",
           "size": 12
          },
          "showarrow": false,
          "text": "+",
          "x": 5176,
          "xanchor": "left",
          "y": 7
         },
         {
          "font": {
           "color": "black",
           "size": 12
          },
          "showarrow": false,
          "text": "+",
          "x": 5836.5,
          "xanchor": "left",
          "y": 7
         },
         {
          "font": {
           "color": "black",
           "size": 12
          },
          "showarrow": false,
          "text": "+",
          "x": 294.5,
          "xanchor": "left",
          "y": 8
         },
         {
          "font": {
           "color": "black",
           "size": 12
          },
          "showarrow": false,
          "text": "+",
          "x": 925.5,
          "xanchor": "left",
          "y": 8
         },
         {
          "font": {
           "color": "black",
           "size": 12
          },
          "showarrow": false,
          "text": "-",
          "x": 6131.5,
          "xanchor": "left",
          "y": 9
         },
         {
          "font": {
           "color": "black",
           "size": 12
          },
          "showarrow": false,
          "text": "-",
          "x": 7017,
          "xanchor": "left",
          "y": 9
         },
         {
          "font": {
           "color": "black",
           "size": 12
          },
          "showarrow": false,
          "text": "+",
          "x": 4021.5,
          "xanchor": "left",
          "y": 10
         },
         {
          "font": {
           "color": "black",
           "size": 12
          },
          "showarrow": false,
          "text": "+",
          "x": 4481,
          "xanchor": "left",
          "y": 10
         },
         {
          "font": {
           "color": "black",
           "size": 12
          },
          "showarrow": false,
          "text": "+",
          "x": 5894,
          "xanchor": "left",
          "y": 11
         },
         {
          "font": {
           "color": "black",
           "size": 12
          },
          "showarrow": false,
          "text": "-",
          "x": 1250,
          "xanchor": "left",
          "y": 12
         },
         {
          "font": {
           "color": "black",
           "size": 12
          },
          "showarrow": false,
          "text": "-",
          "x": 1830,
          "xanchor": "left",
          "y": 12
         },
         {
          "font": {
           "color": "black",
           "size": 12
          },
          "showarrow": false,
          "text": "-",
          "x": 2588,
          "xanchor": "left",
          "y": 12
         },
         {
          "font": {
           "color": "black",
           "size": 12
          },
          "showarrow": false,
          "text": "-",
          "x": 3578,
          "xanchor": "left",
          "y": 12
         },
         {
          "font": {
           "color": "black",
           "size": 12
          },
          "showarrow": false,
          "text": "-",
          "x": 4521,
          "xanchor": "left",
          "y": 12
         },
         {
          "font": {
           "color": "black",
           "size": 12
          },
          "showarrow": false,
          "text": "-",
          "x": 5358.5,
          "xanchor": "left",
          "y": 12
         },
         {
          "font": {
           "color": "black",
           "size": 12
          },
          "showarrow": false,
          "text": "-",
          "x": 5961.5,
          "xanchor": "left",
          "y": 12
         },
         {
          "font": {
           "color": "black",
           "size": 12
          },
          "showarrow": false,
          "text": "-",
          "x": 6610.5,
          "xanchor": "left",
          "y": 12
         },
         {
          "font": {
           "color": "black",
           "size": 12
          },
          "showarrow": false,
          "text": "+",
          "x": 864,
          "xanchor": "left",
          "y": 13
         },
         {
          "font": {
           "color": "black",
           "size": 12
          },
          "showarrow": false,
          "text": "+",
          "x": 2902.5,
          "xanchor": "left",
          "y": 13
         },
         {
          "font": {
           "color": "black",
           "size": 12
          },
          "showarrow": false,
          "text": "+",
          "x": 374.5,
          "xanchor": "left",
          "y": 14
         },
         {
          "font": {
           "color": "black",
           "size": 12
          },
          "showarrow": false,
          "text": "+",
          "x": 802.5,
          "xanchor": "left",
          "y": 14
         },
         {
          "font": {
           "color": "black",
           "size": 12
          },
          "showarrow": false,
          "text": "-",
          "x": 510,
          "xanchor": "left",
          "y": 15
         },
         {
          "font": {
           "color": "black",
           "size": 12
          },
          "showarrow": false,
          "text": "-",
          "x": 864,
          "xanchor": "left",
          "y": 15
         }
        ],
        "height": 1500,
        "shapes": [
         {
          "line": {
           "color": "green",
           "width": 5
          },
          "type": "line",
          "x0": 160,
          "x1": 849,
          "y0": 1,
          "y1": 1
         },
         {
          "line": {
           "color": "green",
           "width": 5
          },
          "type": "line",
          "x0": 880,
          "x1": 1461,
          "y0": 1,
          "y1": 1
         },
         {
          "line": {
           "color": "blue",
           "width": 5
          },
          "type": "line",
          "x0": 32,
          "x1": 478,
          "y0": 2,
          "y1": 2
         },
         {
          "line": {
           "color": "blue",
           "width": 5
          },
          "type": "line",
          "x0": 459,
          "x1": 1439,
          "y0": 2,
          "y1": 2
         },
         {
          "line": {
           "color": "blue",
           "width": 5
          },
          "type": "line",
          "x0": 1517,
          "x1": 2365,
          "y0": 2,
          "y1": 2
         },
         {
          "line": {
           "color": "purple",
           "width": 5
          },
          "type": "line",
          "x0": 4204,
          "x1": 5301,
          "y0": 3,
          "y1": 3
         },
         {
          "line": {
           "color": "purple",
           "width": 5
          },
          "type": "line",
          "x0": 5298,
          "x1": 5486,
          "y0": 3,
          "y1": 3
         },
         {
          "line": {
           "color": "purple",
           "width": 5
          },
          "type": "line",
          "x0": 5486,
          "x1": 6178,
          "y0": 3,
          "y1": 3
         },
         {
          "line": {
           "color": "purple",
           "width": 5
          },
          "type": "line",
          "x0": 6178,
          "x1": 6975,
          "y0": 3,
          "y1": 3
         },
         {
          "line": {
           "color": "orange",
           "width": 5
          },
          "type": "line",
          "x0": 12,
          "x1": 566,
          "y0": 4,
          "y1": 4
         },
         {
          "line": {
           "color": "orange",
           "width": 5
          },
          "type": "line",
          "x0": 569,
          "x1": 943,
          "y0": 4,
          "y1": 4
         },
         {
          "line": {
           "color": "pink",
           "width": 5
          },
          "type": "line",
          "x0": 562,
          "x1": 903,
          "y0": 5,
          "y1": 5
         },
         {
          "line": {
           "color": "pink",
           "width": 5
          },
          "type": "line",
          "x0": 942,
          "x1": 1064,
          "y0": 5,
          "y1": 5
         },
         {
          "line": {
           "color": "gray",
           "width": 5
          },
          "type": "line",
          "x0": 60,
          "x1": 1871,
          "y0": 6,
          "y1": 6
         },
         {
          "line": {
           "color": "gray",
           "width": 5
          },
          "type": "line",
          "x0": 1893,
          "x1": 2411,
          "y0": 6,
          "y1": 6
         },
         {
          "line": {
           "color": "red",
           "width": 5
          },
          "type": "line",
          "x0": 2745,
          "x1": 4934,
          "y0": 7,
          "y1": 7
         },
         {
          "line": {
           "color": "red",
           "width": 5
          },
          "type": "line",
          "x0": 4950,
          "x1": 5402,
          "y0": 7,
          "y1": 7
         },
         {
          "line": {
           "color": "red",
           "width": 5
          },
          "type": "line",
          "x0": 5399,
          "x1": 6274,
          "y0": 7,
          "y1": 7
         },
         {
          "line": {
           "color": "green",
           "width": 5
          },
          "type": "line",
          "x0": 37,
          "x1": 552,
          "y0": 8,
          "y1": 8
         },
         {
          "line": {
           "color": "green",
           "width": 5
          },
          "type": "line",
          "x0": 575,
          "x1": 1276,
          "y0": 8,
          "y1": 8
         },
         {
          "line": {
           "color": "blue",
           "width": 5
          },
          "type": "line",
          "x0": 5562,
          "x1": 6701,
          "y0": 9,
          "y1": 9
         },
         {
          "line": {
           "color": "blue",
           "width": 5
          },
          "type": "line",
          "x0": 6737,
          "x1": 7297,
          "y0": 9,
          "y1": 9
         },
         {
          "line": {
           "color": "purple",
           "width": 5
          },
          "type": "line",
          "x0": 3944,
          "x1": 4099,
          "y0": 10,
          "y1": 10
         },
         {
          "line": {
           "color": "purple",
           "width": 5
          },
          "type": "line",
          "x0": 4096,
          "x1": 4866,
          "y0": 10,
          "y1": 10
         },
         {
          "line": {
           "color": "orange",
           "width": 5
          },
          "type": "line",
          "x0": 5023,
          "x1": 6765,
          "y0": 11,
          "y1": 11
         },
         {
          "line": {
           "color": "pink",
           "width": 5
          },
          "type": "line",
          "x0": 988,
          "x1": 1512,
          "y0": 12,
          "y1": 12
         },
         {
          "line": {
           "color": "pink",
           "width": 5
          },
          "type": "line",
          "x0": 1622,
          "x1": 2038,
          "y0": 12,
          "y1": 12
         },
         {
          "line": {
           "color": "pink",
           "width": 5
          },
          "type": "line",
          "x0": 2035,
          "x1": 3141,
          "y0": 12,
          "y1": 12
         },
         {
          "line": {
           "color": "pink",
           "width": 5
          },
          "type": "line",
          "x0": 3160,
          "x1": 3996,
          "y0": 12,
          "y1": 12
         },
         {
          "line": {
           "color": "pink",
           "width": 5
          },
          "type": "line",
          "x0": 3983,
          "x1": 5059,
          "y0": 12,
          "y1": 12
         },
         {
          "line": {
           "color": "pink",
           "width": 5
          },
          "type": "line",
          "x0": 5059,
          "x1": 5658,
          "y0": 12,
          "y1": 12
         },
         {
          "line": {
           "color": "pink",
           "width": 5
          },
          "type": "line",
          "x0": 5833,
          "x1": 6090,
          "y0": 12,
          "y1": 12
         },
         {
          "line": {
           "color": "pink",
           "width": 5
          },
          "type": "line",
          "x0": 6206,
          "x1": 7015,
          "y0": 12,
          "y1": 12
         },
         {
          "line": {
           "color": "gray",
           "width": 5
          },
          "type": "line",
          "x0": 458,
          "x1": 1270,
          "y0": 13,
          "y1": 13
         },
         {
          "line": {
           "color": "gray",
           "width": 5
          },
          "type": "line",
          "x0": 1295,
          "x1": 4510,
          "y0": 13,
          "y1": 13
         },
         {
          "line": {
           "color": "red",
           "width": 5
          },
          "type": "line",
          "x0": 174,
          "x1": 575,
          "y0": 14,
          "y1": 14
         },
         {
          "line": {
           "color": "red",
           "width": 5
          },
          "type": "line",
          "x0": 635,
          "x1": 970,
          "y0": 14,
          "y1": 14
         },
         {
          "line": {
           "color": "green",
           "width": 5
          },
          "type": "line",
          "x0": 260,
          "x1": 760,
          "y0": 15,
          "y1": 15
         },
         {
          "line": {
           "color": "green",
           "width": 5
          },
          "type": "line",
          "x0": 773,
          "x1": 955,
          "y0": 15,
          "y1": 15
         }
        ],
        "template": {
         "data": {
          "bar": [
           {
            "error_x": {
             "color": "#2a3f5f"
            },
            "error_y": {
             "color": "#2a3f5f"
            },
            "marker": {
             "line": {
              "color": "#E5ECF6",
              "width": 0.5
             },
             "pattern": {
              "fillmode": "overlay",
              "size": 10,
              "solidity": 0.2
             }
            },
            "type": "bar"
           }
          ],
          "barpolar": [
           {
            "marker": {
             "line": {
              "color": "#E5ECF6",
              "width": 0.5
             },
             "pattern": {
              "fillmode": "overlay",
              "size": 10,
              "solidity": 0.2
             }
            },
            "type": "barpolar"
           }
          ],
          "carpet": [
           {
            "aaxis": {
             "endlinecolor": "#2a3f5f",
             "gridcolor": "white",
             "linecolor": "white",
             "minorgridcolor": "white",
             "startlinecolor": "#2a3f5f"
            },
            "baxis": {
             "endlinecolor": "#2a3f5f",
             "gridcolor": "white",
             "linecolor": "white",
             "minorgridcolor": "white",
             "startlinecolor": "#2a3f5f"
            },
            "type": "carpet"
           }
          ],
          "choropleth": [
           {
            "colorbar": {
             "outlinewidth": 0,
             "ticks": ""
            },
            "type": "choropleth"
           }
          ],
          "contour": [
           {
            "colorbar": {
             "outlinewidth": 0,
             "ticks": ""
            },
            "colorscale": [
             [
              0,
              "#0d0887"
             ],
             [
              0.1111111111111111,
              "#46039f"
             ],
             [
              0.2222222222222222,
              "#7201a8"
             ],
             [
              0.3333333333333333,
              "#9c179e"
             ],
             [
              0.4444444444444444,
              "#bd3786"
             ],
             [
              0.5555555555555556,
              "#d8576b"
             ],
             [
              0.6666666666666666,
              "#ed7953"
             ],
             [
              0.7777777777777778,
              "#fb9f3a"
             ],
             [
              0.8888888888888888,
              "#fdca26"
             ],
             [
              1,
              "#f0f921"
             ]
            ],
            "type": "contour"
           }
          ],
          "contourcarpet": [
           {
            "colorbar": {
             "outlinewidth": 0,
             "ticks": ""
            },
            "type": "contourcarpet"
           }
          ],
          "heatmap": [
           {
            "colorbar": {
             "outlinewidth": 0,
             "ticks": ""
            },
            "colorscale": [
             [
              0,
              "#0d0887"
             ],
             [
              0.1111111111111111,
              "#46039f"
             ],
             [
              0.2222222222222222,
              "#7201a8"
             ],
             [
              0.3333333333333333,
              "#9c179e"
             ],
             [
              0.4444444444444444,
              "#bd3786"
             ],
             [
              0.5555555555555556,
              "#d8576b"
             ],
             [
              0.6666666666666666,
              "#ed7953"
             ],
             [
              0.7777777777777778,
              "#fb9f3a"
             ],
             [
              0.8888888888888888,
              "#fdca26"
             ],
             [
              1,
              "#f0f921"
             ]
            ],
            "type": "heatmap"
           }
          ],
          "heatmapgl": [
           {
            "colorbar": {
             "outlinewidth": 0,
             "ticks": ""
            },
            "colorscale": [
             [
              0,
              "#0d0887"
             ],
             [
              0.1111111111111111,
              "#46039f"
             ],
             [
              0.2222222222222222,
              "#7201a8"
             ],
             [
              0.3333333333333333,
              "#9c179e"
             ],
             [
              0.4444444444444444,
              "#bd3786"
             ],
             [
              0.5555555555555556,
              "#d8576b"
             ],
             [
              0.6666666666666666,
              "#ed7953"
             ],
             [
              0.7777777777777778,
              "#fb9f3a"
             ],
             [
              0.8888888888888888,
              "#fdca26"
             ],
             [
              1,
              "#f0f921"
             ]
            ],
            "type": "heatmapgl"
           }
          ],
          "histogram": [
           {
            "marker": {
             "pattern": {
              "fillmode": "overlay",
              "size": 10,
              "solidity": 0.2
             }
            },
            "type": "histogram"
           }
          ],
          "histogram2d": [
           {
            "colorbar": {
             "outlinewidth": 0,
             "ticks": ""
            },
            "colorscale": [
             [
              0,
              "#0d0887"
             ],
             [
              0.1111111111111111,
              "#46039f"
             ],
             [
              0.2222222222222222,
              "#7201a8"
             ],
             [
              0.3333333333333333,
              "#9c179e"
             ],
             [
              0.4444444444444444,
              "#bd3786"
             ],
             [
              0.5555555555555556,
              "#d8576b"
             ],
             [
              0.6666666666666666,
              "#ed7953"
             ],
             [
              0.7777777777777778,
              "#fb9f3a"
             ],
             [
              0.8888888888888888,
              "#fdca26"
             ],
             [
              1,
              "#f0f921"
             ]
            ],
            "type": "histogram2d"
           }
          ],
          "histogram2dcontour": [
           {
            "colorbar": {
             "outlinewidth": 0,
             "ticks": ""
            },
            "colorscale": [
             [
              0,
              "#0d0887"
             ],
             [
              0.1111111111111111,
              "#46039f"
             ],
             [
              0.2222222222222222,
              "#7201a8"
             ],
             [
              0.3333333333333333,
              "#9c179e"
             ],
             [
              0.4444444444444444,
              "#bd3786"
             ],
             [
              0.5555555555555556,
              "#d8576b"
             ],
             [
              0.6666666666666666,
              "#ed7953"
             ],
             [
              0.7777777777777778,
              "#fb9f3a"
             ],
             [
              0.8888888888888888,
              "#fdca26"
             ],
             [
              1,
              "#f0f921"
             ]
            ],
            "type": "histogram2dcontour"
           }
          ],
          "mesh3d": [
           {
            "colorbar": {
             "outlinewidth": 0,
             "ticks": ""
            },
            "type": "mesh3d"
           }
          ],
          "parcoords": [
           {
            "line": {
             "colorbar": {
              "outlinewidth": 0,
              "ticks": ""
             }
            },
            "type": "parcoords"
           }
          ],
          "pie": [
           {
            "automargin": true,
            "type": "pie"
           }
          ],
          "scatter": [
           {
            "fillpattern": {
             "fillmode": "overlay",
             "size": 10,
             "solidity": 0.2
            },
            "type": "scatter"
           }
          ],
          "scatter3d": [
           {
            "line": {
             "colorbar": {
              "outlinewidth": 0,
              "ticks": ""
             }
            },
            "marker": {
             "colorbar": {
              "outlinewidth": 0,
              "ticks": ""
             }
            },
            "type": "scatter3d"
           }
          ],
          "scattercarpet": [
           {
            "marker": {
             "colorbar": {
              "outlinewidth": 0,
              "ticks": ""
             }
            },
            "type": "scattercarpet"
           }
          ],
          "scattergeo": [
           {
            "marker": {
             "colorbar": {
              "outlinewidth": 0,
              "ticks": ""
             }
            },
            "type": "scattergeo"
           }
          ],
          "scattergl": [
           {
            "marker": {
             "colorbar": {
              "outlinewidth": 0,
              "ticks": ""
             }
            },
            "type": "scattergl"
           }
          ],
          "scattermapbox": [
           {
            "marker": {
             "colorbar": {
              "outlinewidth": 0,
              "ticks": ""
             }
            },
            "type": "scattermapbox"
           }
          ],
          "scatterpolar": [
           {
            "marker": {
             "colorbar": {
              "outlinewidth": 0,
              "ticks": ""
             }
            },
            "type": "scatterpolar"
           }
          ],
          "scatterpolargl": [
           {
            "marker": {
             "colorbar": {
              "outlinewidth": 0,
              "ticks": ""
             }
            },
            "type": "scatterpolargl"
           }
          ],
          "scatterternary": [
           {
            "marker": {
             "colorbar": {
              "outlinewidth": 0,
              "ticks": ""
             }
            },
            "type": "scatterternary"
           }
          ],
          "surface": [
           {
            "colorbar": {
             "outlinewidth": 0,
             "ticks": ""
            },
            "colorscale": [
             [
              0,
              "#0d0887"
             ],
             [
              0.1111111111111111,
              "#46039f"
             ],
             [
              0.2222222222222222,
              "#7201a8"
             ],
             [
              0.3333333333333333,
              "#9c179e"
             ],
             [
              0.4444444444444444,
              "#bd3786"
             ],
             [
              0.5555555555555556,
              "#d8576b"
             ],
             [
              0.6666666666666666,
              "#ed7953"
             ],
             [
              0.7777777777777778,
              "#fb9f3a"
             ],
             [
              0.8888888888888888,
              "#fdca26"
             ],
             [
              1,
              "#f0f921"
             ]
            ],
            "type": "surface"
           }
          ],
          "table": [
           {
            "cells": {
             "fill": {
              "color": "#EBF0F8"
             },
             "line": {
              "color": "white"
             }
            },
            "header": {
             "fill": {
              "color": "#C8D4E3"
             },
             "line": {
              "color": "white"
             }
            },
            "type": "table"
           }
          ]
         },
         "layout": {
          "annotationdefaults": {
           "arrowcolor": "#2a3f5f",
           "arrowhead": 0,
           "arrowwidth": 1
          },
          "autotypenumbers": "strict",
          "coloraxis": {
           "colorbar": {
            "outlinewidth": 0,
            "ticks": ""
           }
          },
          "colorscale": {
           "diverging": [
            [
             0,
             "#8e0152"
            ],
            [
             0.1,
             "#c51b7d"
            ],
            [
             0.2,
             "#de77ae"
            ],
            [
             0.3,
             "#f1b6da"
            ],
            [
             0.4,
             "#fde0ef"
            ],
            [
             0.5,
             "#f7f7f7"
            ],
            [
             0.6,
             "#e6f5d0"
            ],
            [
             0.7,
             "#b8e186"
            ],
            [
             0.8,
             "#7fbc41"
            ],
            [
             0.9,
             "#4d9221"
            ],
            [
             1,
             "#276419"
            ]
           ],
           "sequential": [
            [
             0,
             "#0d0887"
            ],
            [
             0.1111111111111111,
             "#46039f"
            ],
            [
             0.2222222222222222,
             "#7201a8"
            ],
            [
             0.3333333333333333,
             "#9c179e"
            ],
            [
             0.4444444444444444,
             "#bd3786"
            ],
            [
             0.5555555555555556,
             "#d8576b"
            ],
            [
             0.6666666666666666,
             "#ed7953"
            ],
            [
             0.7777777777777778,
             "#fb9f3a"
            ],
            [
             0.8888888888888888,
             "#fdca26"
            ],
            [
             1,
             "#f0f921"
            ]
           ],
           "sequentialminus": [
            [
             0,
             "#0d0887"
            ],
            [
             0.1111111111111111,
             "#46039f"
            ],
            [
             0.2222222222222222,
             "#7201a8"
            ],
            [
             0.3333333333333333,
             "#9c179e"
            ],
            [
             0.4444444444444444,
             "#bd3786"
            ],
            [
             0.5555555555555556,
             "#d8576b"
            ],
            [
             0.6666666666666666,
             "#ed7953"
            ],
            [
             0.7777777777777778,
             "#fb9f3a"
            ],
            [
             0.8888888888888888,
             "#fdca26"
            ],
            [
             1,
             "#f0f921"
            ]
           ]
          },
          "colorway": [
           "#636efa",
           "#EF553B",
           "#00cc96",
           "#ab63fa",
           "#FFA15A",
           "#19d3f3",
           "#FF6692",
           "#B6E880",
           "#FF97FF",
           "#FECB52"
          ],
          "font": {
           "color": "#2a3f5f"
          },
          "geo": {
           "bgcolor": "white",
           "lakecolor": "white",
           "landcolor": "#E5ECF6",
           "showlakes": true,
           "showland": true,
           "subunitcolor": "white"
          },
          "hoverlabel": {
           "align": "left"
          },
          "hovermode": "closest",
          "mapbox": {
           "style": "light"
          },
          "paper_bgcolor": "white",
          "plot_bgcolor": "#E5ECF6",
          "polar": {
           "angularaxis": {
            "gridcolor": "white",
            "linecolor": "white",
            "ticks": ""
           },
           "bgcolor": "#E5ECF6",
           "radialaxis": {
            "gridcolor": "white",
            "linecolor": "white",
            "ticks": ""
           }
          },
          "scene": {
           "xaxis": {
            "backgroundcolor": "#E5ECF6",
            "gridcolor": "white",
            "gridwidth": 2,
            "linecolor": "white",
            "showbackground": true,
            "ticks": "",
            "zerolinecolor": "white"
           },
           "yaxis": {
            "backgroundcolor": "#E5ECF6",
            "gridcolor": "white",
            "gridwidth": 2,
            "linecolor": "white",
            "showbackground": true,
            "ticks": "",
            "zerolinecolor": "white"
           },
           "zaxis": {
            "backgroundcolor": "#E5ECF6",
            "gridcolor": "white",
            "gridwidth": 2,
            "linecolor": "white",
            "showbackground": true,
            "ticks": "",
            "zerolinecolor": "white"
           }
          },
          "shapedefaults": {
           "line": {
            "color": "#2a3f5f"
           }
          },
          "ternary": {
           "aaxis": {
            "gridcolor": "white",
            "linecolor": "white",
            "ticks": ""
           },
           "baxis": {
            "gridcolor": "white",
            "linecolor": "white",
            "ticks": ""
           },
           "bgcolor": "#E5ECF6",
           "caxis": {
            "gridcolor": "white",
            "linecolor": "white",
            "ticks": ""
           }
          },
          "title": {
           "x": 0.05
          },
          "xaxis": {
           "automargin": true,
           "gridcolor": "white",
           "linecolor": "white",
           "ticks": "",
           "title": {
            "standoff": 15
           },
           "zerolinecolor": "white",
           "zerolinewidth": 2
          },
          "yaxis": {
           "automargin": true,
           "gridcolor": "white",
           "linecolor": "white",
           "ticks": "",
           "title": {
            "standoff": 15
           },
           "zerolinecolor": "white",
           "zerolinewidth": 2
          }
         }
        },
        "width": 1275,
        "xaxis": {
         "range": [
          0,
          7397
         ],
         "title": {
          "text": "Position on Genome"
         }
        },
        "yaxis": {
         "dtick": 1,
         "range": [
          0,
          16
         ],
         "tickmode": "linear",
         "title": {
          "text": "Operons"
         }
        }
       }
      }
     },
     "metadata": {},
     "output_type": "display_data"
    }
   ],
   "source": [
    "ann = plot_operon(p22,\"Maize22\")"
   ]
  },
  {
   "cell_type": "code",
   "execution_count": null,
   "metadata": {},
   "outputs": [],
   "source": []
  },
  {
   "cell_type": "code",
   "execution_count": null,
   "metadata": {},
   "outputs": [],
   "source": []
  },
  {
   "cell_type": "code",
   "execution_count": null,
   "metadata": {},
   "outputs": [],
   "source": []
  }
 ],
 "metadata": {
  "kernelspec": {
   "display_name": "base",
   "language": "python",
   "name": "python3"
  },
  "language_info": {
   "codemirror_mode": {
    "name": "ipython",
    "version": 3
   },
   "file_extension": ".py",
   "mimetype": "text/x-python",
   "name": "python",
   "nbconvert_exporter": "python",
   "pygments_lexer": "ipython3",
   "version": "3.8.3"
  },
  "orig_nbformat": 4
 },
 "nbformat": 4,
 "nbformat_minor": 2
}
