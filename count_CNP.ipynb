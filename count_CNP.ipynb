{
 "cells": [
  {
   "attachments": {},
   "cell_type": "markdown",
   "metadata": {},
   "source": [
    "# Workflow to analyze microbiome data.\n",
    "- [x] Downstream metagenomics analysis \n",
    "- [x] Downstream 16S analysis would be covered in ./scripts/EasyMicrobiome.Rmd"
   ]
  },
  {
   "attachments": {},
   "cell_type": "markdown",
   "metadata": {},
   "source": [
    "## Load packages"
   ]
  },
  {
   "cell_type": "code",
   "execution_count": 2,
   "metadata": {},
   "outputs": [],
   "source": [
    "from scripts import separation\n",
    "import pandas as pd\n",
    "import os\n",
    "import numpy as np\n",
    "import json\n",
    "pd.set_option('display.max_columns', None)\n",
    "pd.set_option('display.max_rows', 10)"
   ]
  },
  {
   "cell_type": "code",
   "execution_count": 3,
   "metadata": {},
   "outputs": [],
   "source": [
    "# check data\n",
    "p = \"./data/cropps_summer_tax/22/\"\n",
    "plist = [] \n",
    "for i in [\"per_contig.tax.txt\",\"per_gene.tax_and_kofam.txt\",\"per_tax.total_base_count.txt\",\"prodigal.cds.faa.blastp.add_tax\"]:\n",
    "    plist.append(os.path.join(p,i))\n",
    "\n",
    "df1 = pd.read_csv(plist[0],sep='\\t',header=None)\n",
    "df1.columns = \"seq_id,tax\".split(\",\")\n",
    "df2 = pd.read_csv(plist[1],delimiter='\\t',header=None)\n",
    "df2.columns = \"seq_id,ncbi_accession,identity%,align_length,#mismatch,E-value,bitscore,gene_anno,organism,taxid,KO\".split(\",\")\n",
    "df3 = pd.read_csv(plist[2],delimiter='\\t',header=None)\n",
    "df3.columns = \"tax,base_count\".split(\",\")\n",
    "\n",
    "df4 = df1.merge(df3,\"inner\")\n",
    "\n",
    "df5 = pd.read_csv(plist[3],delimiter='\\t',header=None)\n",
    "df5.columns = \"seq_id,ncbi_accession,identity%,align_length,#mismatch,E-value,bitscore,gene_anno,organism,taxid\".split(\",\")\n",
    "df6 = df5[\"seq_id\"].str.split(\"_\",expand=True)\n",
    "temp = df6.iloc[:,0]+\"_\"+df6.iloc[:,1]\n",
    "df6 = pd.concat([temp,df6[2]],axis=1)\n",
    "df6.columns = [\"contig_id\",\"gene_id\"]\n",
    "df5 = pd.concat([df6,df5.iloc[:,1:]],axis=1)\n",
    "# now we only handle df2 and df4 and df5"
   ]
  },
  {
   "cell_type": "code",
   "execution_count": 151,
   "metadata": {},
   "outputs": [],
   "source": [
    "## for the KO identification\n",
    "# db_all = pd.read_csv(\"db.ko.list.txt\",sep='\\t',header=None)\n",
    "# db_all.columns = [\"KO\",\"KEGGanno\"]\n",
    "# # load db \n",
    "# with open(\"db.ko.CNP.json\",\"r\") as f:\n",
    "#     db = json.load(f)\n",
    "# # df2.replace({\"KO\":db[\"PolyP\"]})[\"KO\"]\n",
    "# df = df2.merge(db_all,\"inner\")"
   ]
  },
  {
   "cell_type": "code",
   "execution_count": 4,
   "metadata": {},
   "outputs": [
    {
     "name": "stdout",
     "output_type": "stream",
     "text": [
      "          contig_id gene_id ncbi_accession  identity%  align_length  \\\n",
      "126  c_000000000009       1     EER55977.1      100.0           502   \n",
      "\n",
      "     #mismatch  E-value  bitscore  \\\n",
      "126          0      0.0     977.0   \n",
      "\n",
      "                                           gene_anno  \\\n",
      "126  exopolyphosphatase [Neisseria flavescens SK114]   \n",
      "\n",
      "                       organism   taxid  \n",
      "126  Neisseria flavescens SK114  596320  \n"
     ]
    },
    {
     "name": "stderr",
     "output_type": "stream",
     "text": [
      "/var/folders/yp/5srx62ln4zxcf2c1k3b3kknr0000gn/T/ipykernel_24506/2963722332.py:16: FutureWarning: The default dtype for empty Series will be 'object' instead of 'float64' in a future version. Specify a dtype explicitly to silence this warning.\n",
      "  sharedcontig = pd.Series(list(set(dfi[\"contig_id\"]).intersection(set(dfj[\"contig_id\"]))))\n"
     ]
    },
    {
     "data": {
      "text/plain": [
       "Series([], dtype: float64)"
      ]
     },
     "execution_count": 4,
     "metadata": {},
     "output_type": "execute_result"
    }
   ],
   "source": [
    "# for the keyword identification for functions\n",
    "funclist = [\"nitrate\",\"nitrite\",\"ammonia\",\"nitric\",\"nitrous\",\"nitrogen\",\"polyphos\",\"phosphate\"]\n",
    "def get_funcidx(df,funclist):\n",
    "    \n",
    "    idxlist = {}\n",
    "    for i in range(len(funclist)):\n",
    "        idx = df[\"gene_anno\"].str.contains(funclist[i])\n",
    "        idxlist[funclist[i]] = idx\n",
    "    return idxlist\n",
    "\n",
    "def get_intersect(idxi,idxj,df):\n",
    "    dfi = df.loc[idxi,:]\n",
    "    dfj = df.loc[idxj,:]\n",
    "    # print(dfi)\n",
    "    print(dfj)\n",
    "    sharedcontig = pd.Series(list(set(dfi[\"contig_id\"]).intersection(set(dfj[\"contig_id\"]))))\n",
    "    return sharedcontig\n",
    "\n",
    "idxlist = get_funcidx(df5,funclist)\n",
    "idxi = idxlist[\"nitrate\"]\n",
    "idxj = idxlist[\"polyphos\"]\n",
    "get_intersect(idxi,idxj,df5)"
   ]
  },
  {
   "cell_type": "code",
   "execution_count": 25,
   "metadata": {},
   "outputs": [
    {
     "name": "stdout",
     "output_type": "stream",
     "text": [
      "285      MULTISPECIES: ammonium transporter [Staphyloco...\n",
      "767      MULTISPECIES: threonine ammonia-lyase IlvA [St...\n",
      "27520    threonine ammonia-lyase domain protein [Staphy...\n",
      "Name: gene_anno, dtype: object\n"
     ]
    }
   ],
   "source": [
    "# let's start from looking forgenus Neisseria\n",
    "idtax = df5[\"organism\"].str.contains(\"Staphylococcus\")\n",
    "tax = df5.loc[idtax,:][\"gene_anno\"]\n",
    "\n",
    "tax_gene_id = tax.str.contains(\"ammon\")\n",
    "\n",
    "tax_gene = tax.loc[tax_gene_id]\n",
    "print(tax_gene)\n",
    "# idxlist = get_funcidx(tax,funclist=[\"polyp\"])\n",
    "# tax.loc[idxlist[\"polyp\"],][\"gene_anno\"]\n"
   ]
  },
  {
   "attachments": {},
   "cell_type": "markdown",
   "metadata": {},
   "source": [
    "## Run it"
   ]
  },
  {
   "cell_type": "code",
   "execution_count": 6,
   "metadata": {},
   "outputs": [
    {
     "data": {
      "text/plain": [
       "0                  Neisseria mucosa\n",
       "1        Achromobacter xylosoxidans\n",
       "2              Neisseria flavescens\n",
       "3            Neisseria meningitidis\n",
       "4         Neisseria subflava NJ9703\n",
       "                    ...            \n",
       "28063        Staphylococcus hominis\n",
       "28064              Escherichia coli\n",
       "28065        Staphylococcus hominis\n",
       "28066        Staphylococcus hominis\n",
       "28067        Staphylococcus warneri\n",
       "Name: organism, Length: 28068, dtype: object"
      ]
     },
     "execution_count": 6,
     "metadata": {},
     "output_type": "execute_result"
    }
   ],
   "source": [
    "df5[\"organism\"]"
   ]
  },
  {
   "cell_type": "code",
   "execution_count": null,
   "metadata": {},
   "outputs": [],
   "source": []
  }
 ],
 "metadata": {
  "kernelspec": {
   "display_name": "Python 3",
   "language": "python",
   "name": "python3"
  },
  "language_info": {
   "codemirror_mode": {
    "name": "ipython",
    "version": 3
   },
   "file_extension": ".py",
   "mimetype": "text/x-python",
   "name": "python",
   "nbconvert_exporter": "python",
   "pygments_lexer": "ipython3",
   "version": "3.10.4"
  },
  "orig_nbformat": 4,
  "vscode": {
   "interpreter": {
    "hash": "31f2aee4e71d21fbe5cf8b01ff0e069b9275f58929596ceb00d14d90e3e16cd6"
   }
  }
 },
 "nbformat": 4,
 "nbformat_minor": 2
}
