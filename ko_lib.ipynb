{
 "cells": [
  {
   "attachments": {},
   "cell_type": "markdown",
   "metadata": {},
   "source": [
    "# The code to write database for function of interests from KEGG Module \n",
    "## [link here](https://www.genome.jp/brite/ko00002)\n",
    "### https://rest.kegg.jp/get/K02588\n",
    "### [KO list](https://rest.kegg.jp/list/ko)"
   ]
  },
  {
   "cell_type": "code",
   "execution_count": 1,
   "metadata": {},
   "outputs": [],
   "source": [
    "# https://www.genome.jp/brite/ko00002\n",
    "dict_nitrogen = {\n",
    "    \"nitrogen fixation\":[\"K02588\",\"K02586\",\"K02591\",\"K00531\",\"K22896\",\"K22897\",\"K22898\",\"K22899\"], # M00175\n",
    "    \"Assimilatory nitrate reduction\":[\"K00367\",\"K10534\",\"K00372\",\"K00360\",\"K00366\",\"K17877\",\"K26139\",\"K26138\",\"K00361\"], # M00531\n",
    "    \"Dissimilatory nitrate reduction\":[\"K00370\",\"K00371\",\"K00374\",\"K02567\",\"K02568\",\"K00362\",\"K00363\",\"K03385\",\"K15876\"], # M00530\n",
    "    \"Denitrification\":[\"K00370\",\"K00371\",\"K00374\",\"K00368\",\"K02567\",\"K02568\",\"K15864\",\"K04561\",\"K02305\",\"K00376\"], # M00529\n",
    "    \"Nitrification\":[\"K10944\",\"K10945\",\"K10946\",\"K10535\"], # M00528\n",
    "    \"Complete nitrification\":[\"K10944\",\"K10945\",\"K10946\",\"K10535\",\"K00370\",\"K00371\"] # M00804\n",
    "}\n",
    "\n",
    "# https://www.genome.jp/entry/C00404\n",
    "dict_polyp = {\n",
    "    \"ppgk\": [\"K00886\"], # polyphosphate---glucose phosphotransferase; pathway ec00010 glycolysis/gluconeogenesis, \n",
    "    # ec00520 amino sugar and nucleotide sugar metabolism, ec01110 biosynthesis of secondary metabolites, ec01120 microbial metabolism in diverse environments\n",
    "    \"ppk1\": [\"K00937\"], # pathway ec00190 oxidative phosphorylation\n",
    "    \"ppk2\": [\"K22468\"], # pathway ec00190 oxidative phosphorylation\n",
    "    \"ppn\": [\"K06018\"], # endopolyphosphatase\n",
    "    \"ppx\": [\"K01514\"], # pathway ec00230 purine metabolism, exopolyphosphatase\n",
    "    \"ppx-gppA\": [\"K01524\"], # exopolyphosphatase / guanosine-5'-triphosphate,3'-diphosphate pyrophosphatase\n",
    "    \"pap\": [\"K23753\"], # AMP-polyphosphate phosphotransferase\n",
    "}\n",
    "\n",
    "# https://www.genome.jp/dbget-bin/www_bget?C00369\n",
    "dict_glyco = {\n",
    "    \"lytic starch monooxygenase\":[\"K00516\"],\n",
    "    \"glycogen phosphorylase\":[\"K00688\",\"K16153\"], # glycogen phosphorylase /synthase\n",
    "    \"1,4-alpha-glucan branching enzyme\":[\"K00700\",\"K16149\"],\n",
    "    \"cyclomaltodextrin glucanotransferase\": [\"K00701\"],\n",
    "    \"alpha-amylase\":[\"K01176\",\"K05343\",\"K07405\"],\n",
    "    \"beta-amylase\":[\"K01177\"],\n",
    "    \"glucoamylase\":[\"K01178\",\"K12047\",\"K21574\"],\n",
    "    \"glycogen debranching enzyme\":[\"K01196\"],\n",
    "    \"isoamylase\":[\"K01214\"],\n",
    "    \"maltogenic alpha-amylase\":[\"K01208\",\"K05992\"]\n",
    "}\n",
    "\n",
    "# https://www.genome.jp/dbget-bin/www_bfind_sub?mode=bfind&max_hit=1000&locale=en&serv=kegg&dbkey=genes&keywords=polyhydroxyalkanoate&page=1\n",
    "dict_pha = {\n",
    "    \"PHA synthase\": [\"K03821\",\"K22881\"], # phaC, polyhydroxyalkanoate, phaE\n",
    "    \"PHA depolymerase\": [\"K05973\"],\n",
    "    \"PHA synthesis repressor PhaR\": [\"K24257\"]\n",
    "}\n",
    "\n",
    "# https://www.genome.jp/brite/ko00002\n",
    "\n",
    "comm_methanogen0 = [\"K00577\",\"K00578\",\"K00579\",\"K00580\",\"K00581\",\"K00582\",\"K00583\",\"K00584\",\n",
    "                           \"K00399\",\"K00401\",\"K00402\"]\n",
    "comm_methanogen1 = [\"K22480\",\"K22481\",\"K22482\",\"K03388\",\"K03389\",\"K03390\",\"K08264\",\n",
    "                           \"K08265\",\"K03388\",\"K03389\",\"K03390\",\"K14127\",\"K14126\",\"K14128\",\"K22516\",\"K00125\"]\n",
    "comm_methanogen = comm_methanogen0 + comm_methanogen1\n",
    "\n",
    "dict_methane = {\n",
    "    \"Methanogenesis, CO2\":[\"K00200\",\"K00201\",\"K00202\",\"K00203\",\"K11261\",\"K00205\",\"K11260\",\"K00204\",\"K00672\",\"K01499\",\"K00319\",\n",
    "                           \"K13942\",\"K00320\"]+comm_methanogen,\n",
    "    \"Methanogenesis, acetate\":[\"K00925\",\"K00625\",\"K01895\",\"K00193\",\"K00197\",\"K00194\",]+comm_methanogen,\n",
    "    \"Methanogenesis, methanol\":[\"K14080\",\"K04480\",\"K14081\",\"K00399\",\"K00401\",\"K00402\"]+comm_methanogen1,\n",
    "    \"Methanogenesis, methylamine\":[\"K14082\",\"K16177\",\"K16176\",\"K16179\",\"K16178\",\"K14084\",\"K14083\",\"K00399\",\"K00401\",\"K00402\"]+comm_methanogen1,\n",
    "    \"Methane oxidation\": [\"K10944\",\"K10945\",\"K10946\",\"K16157\",\"K16158\",\"K16159\",\"K16160\",\"K16161\",\"K16162\",\"K14028\",\"K14029\",\"K23995\"],\n",
    "    \"Formaldehyde assimilation, serine\":[\"K00600\",\"K00830\",\"K00018\",\"K11529\",\"K01689\",\"K01595\",\"K00024\",\"K08692\",\"K14067\",\"K08691\"],\n",
    "    \"Formaldehyde assimilation, RuMP\":[\"K08093\",\"K13812\",\"K08094\",\"K13831\",\"K00850\",\"K16370\",\"K01624\"],\n",
    "    \"Formaldehyde assimilation, xylulose monophosphate\":[\"K17100\",\"K00863\",\"K01624\",\"K03841\"],\n",
    "}"
   ]
  },
  {
   "cell_type": "code",
   "execution_count": 9,
   "metadata": {},
   "outputs": [],
   "source": [
    "# swap key and value\n",
    "names = [\"Nitrogen\",\"PolyP\",\"Glycogen\",\"PHA\",\"Methane\"]\n",
    "all = [dict_nitrogen,dict_polyp,dict_glyco,dict_pha,dict_methane]\n",
    "allr = []#reverse\n",
    "for dict_i in all:\n",
    "    dict_temp = {}\n",
    "    for k,v in dict_i.items():\n",
    "        for v0 in v:\n",
    "            dict_temp[v0] = k\n",
    "    allr.append(dict_temp)"
   ]
  },
  {
   "cell_type": "code",
   "execution_count": 10,
   "metadata": {},
   "outputs": [],
   "source": [
    "dictdb, dictdbr = {}, {}\n",
    "for i in range(len(all)):\n",
    "    dictdb[names[i]] = all[i]\n",
    "    dictdbr[names[i]] = allr[i]\n"
   ]
  },
  {
   "cell_type": "code",
   "execution_count": 11,
   "metadata": {},
   "outputs": [],
   "source": [
    "import json\n",
    "json_obj = json.dumps(dictdb,indent=4)\n",
    "json_objr = json.dumps(dictdbr,indent=4)\n",
    "with open(\"db.CNP.ko.json\",\"w\") as f:\n",
    "    f.write(json_obj)\n",
    "with open(\"db.ko.CNP.json\",\"w\") as f:\n",
    "    f.write(json_objr)"
   ]
  },
  {
   "cell_type": "code",
   "execution_count": null,
   "metadata": {},
   "outputs": [],
   "source": []
  }
 ],
 "metadata": {
  "kernelspec": {
   "display_name": "py3.10",
   "language": "python",
   "name": "python3"
  },
  "language_info": {
   "codemirror_mode": {
    "name": "ipython",
    "version": 3
   },
   "file_extension": ".py",
   "mimetype": "text/x-python",
   "name": "python",
   "nbconvert_exporter": "python",
   "pygments_lexer": "ipython3",
   "version": "3.10.4"
  },
  "orig_nbformat": 4
 },
 "nbformat": 4,
 "nbformat_minor": 2
}
